{
 "cells": [
  {
   "cell_type": "markdown",
   "metadata": {},
   "source": [
    "## Setup"
   ]
  },
  {
   "cell_type": "code",
   "execution_count": 1,
   "metadata": {
    "collapsed": true,
    "show_input": true
   },
   "outputs": [],
   "source": [
    "import inro.modeller as _m\n",
    "import os"
   ]
  },
  {
   "cell_type": "code",
   "execution_count": 2,
   "metadata": {
    "collapsed": true,
    "show_input": true
   },
   "outputs": [],
   "source": [
    "emmebank_dir = os.path.dirname(_m.Modeller().emmebank.path)\n",
    "userpath = os.path.expanduser('~')\n",
    "output_path = userpath + '\\\\desktop\\\\skim'\n",
    "\n",
    "if not os.path.exists(output_path):\n",
    "    os.makedirs(output_path)"
   ]
  },
  {
   "cell_type": "code",
   "execution_count": 3,
   "metadata": {
    "collapsed": true,
    "show_input": true
   },
   "outputs": [],
   "source": [
    "def update_output_path(folder_name):\n",
    "    emmebank_dir = os.path.dirname(_m.Modeller().emmebank.path)\n",
    "    userpath = os.path.expanduser('~')\n",
    "    output_path = userpath + '\\\\desktop\\\\{new_name}'.format(new_name=folder_name)\n",
    "\n",
    "    if not os.path.exists(output_path):\n",
    "        os.makedirs(output_path)\n",
    "    return output_path"
   ]
  },
  {
   "cell_type": "code",
   "execution_count": 4,
   "metadata": {
    "collapsed": true,
    "show_input": true
   },
   "outputs": [],
   "source": [
    "export_matrix = _m.Modeller().tool('inro.emme.data.matrix.export_matrices')"
   ]
  },
  {
   "cell_type": "code",
   "execution_count": 5,
   "metadata": {
    "collapsed": true,
    "show_input": true
   },
   "outputs": [],
   "source": [
    "def batch_mat_exporter(mf_export_list, output_file_list, output_path):\n",
    "    for i in range(0, len(mf_export_list)):\n",
    "        current_mat = 'mf%d' % mf_export_list[i]\n",
    "        ofile = '%s.txt' % output_file_list[i]\n",
    "        output_file = os.path.join(output_path, ofile)\n",
    "        export_matrix(matrices=current_mat,\n",
    "                    export_file=output_file, \n",
    "                    field_separator='TAB',\n",
    "                    export_format=\"PROMPT_DATA_FORMAT\",\n",
    "                    skip_default_values=False,\n",
    "                    full_matrix_line_format=\"ONE_ENTRY_PER_LINE\")"
   ]
  },
  {
   "cell_type": "markdown",
   "metadata": {},
   "source": [
    "## Export Auto Skims"
   ]
  },
  {
   "cell_type": "code",
   "execution_count": 79,
   "metadata": {
    "code_folding": [
     0
    ],
    "collapsed": false,
    "show_input": true
   },
   "outputs": [],
   "source": [
    "auto_mf_export_list = [2030,2031,2032,2033,2034,2035,2036,2037,2038]"
   ]
  },
  {
   "cell_type": "code",
   "execution_count": 80,
   "metadata": {
    "collapsed": true,
    "show_input": true
   },
   "outputs": [],
   "source": [
    "auto_output_file_list = ['AutoDistanceAMWk','AutoTimeAMWk','AutoTollAMWk','AutoDistanceMDWk','AutoTimeMDWk','AutoTollMDWk','AutoDistancePMWk',\n",
    "                    'AutoTimePMWk','AutoTollPMWk']"
   ]
  },
  {
   "cell_type": "code",
   "execution_count": 81,
   "metadata": {
    "collapsed": true,
    "show_input": true
   },
   "outputs": [],
   "source": [
    "output_path = update_output_path('auto')"
   ]
  },
  {
   "cell_type": "code",
   "execution_count": 82,
   "metadata": {
    "collapsed": false,
    "show_input": true
   },
   "outputs": [],
   "source": [
    "batch_mat_exporter(auto_mf_export_list, auto_output_file_list, output_path)"
   ]
  },
  {
   "cell_type": "code",
   "execution_count": 83,
   "metadata": {
    "collapsed": true,
    "show_input": true
   },
   "outputs": [],
   "source": [
    "auto_mf_export_list = [930,931,932,942,943,944,2000,2001,2002]"
   ]
  },
  {
   "cell_type": "code",
   "execution_count": 84,
   "metadata": {
    "collapsed": true,
    "show_input": true
   },
   "outputs": [],
   "source": [
    "auto_output_file_list = ['AutoDistanceAMNWk','AutoTimeAMNWk','AutoTollAMNWk','AutoDistanceMDNWk','AutoTimeMDNWk','AutoTollMDNWk','AutoDistancePMNWk',\n",
    "                    'AutoTimePMNWk','AutoTollPMNWk']"
   ]
  },
  {
   "cell_type": "code",
   "execution_count": 85,
   "metadata": {
    "collapsed": true,
    "show_input": true
   },
   "outputs": [],
   "source": [
    "output_path = update_output_path('auto')"
   ]
  },
  {
   "cell_type": "code",
   "execution_count": 86,
   "metadata": {
    "collapsed": false,
    "show_input": true
   },
   "outputs": [],
   "source": [
    "batch_mat_exporter(auto_mf_export_list, auto_output_file_list, output_path)"
   ]
  },
  {
   "cell_type": "markdown",
   "metadata": {},
   "source": [
    "## Export Bus Skims"
   ]
  },
  {
   "cell_type": "code",
   "execution_count": 14,
   "metadata": {
    "collapsed": true,
    "show_input": true
   },
   "outputs": [],
   "source": [
    "bus_mf_export_list = [106,107,108,109,110,111,112,113,114,115,2106,2107,2108,2109,2110]"
   ]
  },
  {
   "cell_type": "code",
   "execution_count": 15,
   "metadata": {
    "collapsed": true,
    "show_input": true
   },
   "outputs": [],
   "source": [
    "bus_output_file_list = ['BusTotalWaitAM','BusIVTTAM','BusAvgBoardAM','BusAuxAM','BusFlagAM','BusTotalWaitMD','BusIVTTMD',\n",
    "                    'BusAvgBoardMD','BusAuxMD','BusFlagMD','BusTotalWaitPM','BusIVTTPM','BusAvgBoardPM','BusAuxPM','BusFlagPM']"
   ]
  },
  {
   "cell_type": "code",
   "execution_count": 16,
   "metadata": {
    "collapsed": true,
    "show_input": true
   },
   "outputs": [],
   "source": [
    "output_path = update_output_path('bus')"
   ]
  },
  {
   "cell_type": "code",
   "execution_count": 17,
   "metadata": {
    "collapsed": true,
    "show_input": true
   },
   "outputs": [],
   "source": [
    "batch_mat_exporter(bus_mf_export_list, bus_output_file_list, output_path)"
   ]
  },
  {
   "cell_type": "markdown",
   "metadata": {},
   "source": [
    "## Export P2 Rail Skims (should not be used for development)"
   ]
  },
  {
   "cell_type": "code",
   "execution_count": 18,
   "metadata": {
    "collapsed": true,
    "show_input": true
   },
   "outputs": [],
   "source": [
    "rail_mf_export_list = [116,117,118,119,120,121,122,123,124,125,126,127,128,129,130,131,2116,2117,2118,2119,2120,2121,2122,2123]"
   ]
  },
  {
   "cell_type": "code",
   "execution_count": 19,
   "metadata": {
    "collapsed": true,
    "show_input": true
   },
   "outputs": [],
   "source": [
    "rail_output_file_list = ['RailBusIVTTAM','RailRailIVTTAM','RailTotalWaitAM','RailAvgBoardAM','RailAuxAM','RailFlagAM',\n",
    "                         'AuxFlagAM','TotalRlTimeFlagAM','RailBusIVTTMD','RailRailIVTTMD','RailTotalWaitMD','RailAvgBoardMD',\n",
    "                         'RailAuxMD','RailFlagMD','AuxFlagMD','TotalRlTimeFlagMD','RailBusIVTTPM','RailRailIVTTPM',\n",
    "                         'RailTotalWaitPM','RailAvgBoardPM','RailAuxPM','RailFlagPM','AuxFlagPM','TotalRlTimeFlagPM']"
   ]
  },
  {
   "cell_type": "code",
   "execution_count": 20,
   "metadata": {
    "collapsed": true,
    "show_input": true
   },
   "outputs": [],
   "source": [
    "#batch_mat_exporter(rail_mf_export_list, rail_output_file_list, output_path)"
   ]
  },
  {
   "cell_type": "markdown",
   "metadata": {},
   "source": [
    "## Export Other Transit Skims"
   ]
  },
  {
   "cell_type": "code",
   "execution_count": 21,
   "metadata": {
    "collapsed": true,
    "show_input": true
   },
   "outputs": [],
   "source": [
    "transit_mf_export_list = [160,161,163,164,167,168,2163,2164]"
   ]
  },
  {
   "cell_type": "code",
   "execution_count": 22,
   "metadata": {
    "collapsed": true,
    "show_input": true
   },
   "outputs": [],
   "source": [
    "transit_output_file_list = ['BusFare','RailFare','TransitOVTTAM','TransitIVTTAM','TransitOVTTMD',\n",
    "                            'TransitIVTTMD','TransitOVTTPM','TransitIVTTPM']"
   ]
  },
  {
   "cell_type": "code",
   "execution_count": 23,
   "metadata": {
    "collapsed": true,
    "show_input": true
   },
   "outputs": [],
   "source": [
    "output_path = update_output_path('transit')"
   ]
  },
  {
   "cell_type": "code",
   "execution_count": 24,
   "metadata": {
    "collapsed": false,
    "scrolled": true,
    "show_input": true
   },
   "outputs": [],
   "source": [
    "batch_mat_exporter(transit_mf_export_list, transit_output_file_list, output_path)"
   ]
  },
  {
   "cell_type": "markdown",
   "metadata": {},
   "source": [
    "## Export P3 Rail Skims"
   ]
  },
  {
   "cell_type": "code",
   "execution_count": 25,
   "metadata": {
    "collapsed": true,
    "show_input": true
   },
   "outputs": [],
   "source": [
    "p3_rail_mf_export_list = [5000,5001,5002,5003,5004,5005,5006,5007,5008,5009,5010,5011,5012,5013,5014]"
   ]
  },
  {
   "cell_type": "code",
   "execution_count": 26,
   "metadata": {
    "collapsed": true,
    "show_input": true
   },
   "outputs": [],
   "source": [
    "p3_rail_output_file_list = ['RailBusIVTTAM','RailRailIVTTAM','RailTotalWaitAM','RailAvgBoardAM','RailAuxAM',\n",
    "                         'RailBusIVTTMD','RailRailIVTTMD','RailTotalWaitMD','RailAvgBoardMD','RailAuxMD',\n",
    "                         'RailBusIVTTPM','RailRailIVTTPM','RailTotalWaitPM','RailAvgBoardPM','RailAuxPM']"
   ]
  },
  {
   "cell_type": "code",
   "execution_count": 27,
   "metadata": {
    "collapsed": true,
    "show_input": true
   },
   "outputs": [],
   "source": [
    "output_path = update_output_path('rail')"
   ]
  },
  {
   "cell_type": "code",
   "execution_count": 28,
   "metadata": {
    "collapsed": false,
    "show_input": true
   },
   "outputs": [],
   "source": [
    "batch_mat_exporter(p3_rail_mf_export_list, p3_rail_output_file_list, output_path)"
   ]
  },
  {
   "cell_type": "markdown",
   "metadata": {},
   "source": [
    "## Export P3 WCE skims"
   ]
  },
  {
   "cell_type": "code",
   "execution_count": 29,
   "metadata": {
    "collapsed": true,
    "show_input": true
   },
   "outputs": [],
   "source": [
    "p3_wce_mf_export_list = [5050,5051,5052,5053,5054,5055,5056,5057,5058,5059,5060,5061,5062,5063,5064,5065,5066,5067]"
   ]
  },
  {
   "cell_type": "code",
   "execution_count": 30,
   "metadata": {
    "collapsed": true,
    "show_input": true
   },
   "outputs": [],
   "source": [
    "p3_wce_output_file_list = ['WCEBusIVTTAM','WCERailIVTTAM','WCEWCEIVTTAM','WCETotalWaitAM','WCEAvgBoardAM','WCEAuxAM',\n",
    "                         'WCEBusIVTTMD','WCERailIVTTMD','WCEWCEIVTTMD','WCETotalWaitMD','WCEAvgBoardMD','WCEAuxMD',\n",
    "                         'WCEBusIVTTPM','WCERailIVTTPM','WCEWCEIVTTPM','WCETotalWaitPM','WCEAvgBoardPM','WCEAuxPM']"
   ]
  },
  {
   "cell_type": "code",
   "execution_count": 31,
   "metadata": {
    "collapsed": true,
    "show_input": true
   },
   "outputs": [],
   "source": [
    "output_path = update_output_path('wce')"
   ]
  },
  {
   "cell_type": "code",
   "execution_count": 32,
   "metadata": {
    "collapsed": true,
    "show_input": true
   },
   "outputs": [],
   "source": [
    "batch_mat_exporter(p3_wce_mf_export_list, p3_wce_output_file_list, output_path)"
   ]
  },
  {
   "cell_type": "markdown",
   "metadata": {},
   "source": [
    "## Export P3 Park and Ride Bus Skims PA Direction"
   ]
  },
  {
   "cell_type": "markdown",
   "metadata": {},
   "source": [
    "####am work"
   ]
  },
  {
   "cell_type": "code",
   "execution_count": 1,
   "metadata": {
    "collapsed": false,
    "scrolled": true,
    "show_input": true
   },
   "outputs": [
    {
     "ename": "NameError",
     "evalue": "name 'update_output_path' is not defined",
     "output_type": "error",
     "traceback": [
      "\u001b[1;31m---------------------------------------------------------------------------\u001b[0m",
      "\u001b[1;31mNameError\u001b[0m                                 Traceback (most recent call last)",
      "\u001b[1;32m<ipython-input-1-12fd9adde601>\u001b[0m in \u001b[0;36m<module>\u001b[1;34m()\u001b[0m\n\u001b[0;32m      2\u001b[0m p3_prbus_output_file_list = ['prBusautimeAMWk', 'prBusautollAMWk', 'prBusautdistAMWk', 'prBusbusIVTAMWk', 'prBusbusWtAMWk', \n\u001b[0;32m      3\u001b[0m                              'prBusbordsAMWk', 'prBusauxAMWk', 'prBusfareAMWk']\n\u001b[1;32m----> 4\u001b[1;33m \u001b[0moutput_path\u001b[0m \u001b[1;33m=\u001b[0m \u001b[0mupdate_output_path\u001b[0m\u001b[1;33m(\u001b[0m\u001b[1;34m'bus_pr_pa'\u001b[0m\u001b[1;33m)\u001b[0m\u001b[1;33m\u001b[0m\u001b[0m\n\u001b[0m\u001b[0;32m      5\u001b[0m \u001b[0mbatch_mat_exporter\u001b[0m\u001b[1;33m(\u001b[0m\u001b[0mp3_prbus_mf_export_list\u001b[0m\u001b[1;33m,\u001b[0m \u001b[0mp3_prbus_output_file_list\u001b[0m\u001b[1;33m,\u001b[0m \u001b[0moutput_path\u001b[0m\u001b[1;33m)\u001b[0m\u001b[1;33m\u001b[0m\u001b[0m\n",
      "\u001b[1;31mNameError\u001b[0m: name 'update_output_path' is not defined"
     ]
    }
   ],
   "source": [
    "p3_prbus_mf_export_list = [6007, 6008, 6009, 6010, 6011, 6012, 6013, 6014]\n",
    "p3_prbus_output_file_list = ['prBusautimeAMWk', 'prBusautollAMWk', 'prBusautdistAMWk', 'prBusbusIVTAMWk', 'prBusbusWtAMWk', \n",
    "                             'prBusbordsAMWk', 'prBusauxAMWk', 'prBusfareAMWk']\n",
    "output_path = update_output_path('bus_pr_pa')\n",
    "batch_mat_exporter(p3_prbus_mf_export_list, p3_prbus_output_file_list, output_path)        \n"
   ]
  },
  {
   "cell_type": "markdown",
   "metadata": {},
   "source": [
    "####md work"
   ]
  },
  {
   "cell_type": "code",
   "execution_count": 34,
   "metadata": {
    "collapsed": true,
    "show_input": true
   },
   "outputs": [],
   "source": [
    "p3_prbus_mf_export_list = [6052, 6053, 6054, 6055, 6056, 6057, 6058, 6059]\n",
    "p3_prbus_output_file_list = ['prBusautimeMDWk', 'prBusautollMDWk', 'prBusautdistMDWk', 'prBusbusIVTMDWk', 'prBusbusWtMDWk',\n",
    "                             'prBusbordsMDWk', 'prBusauxMDWk', 'prBusfareMDWk']\n",
    "batch_mat_exporter(p3_prbus_mf_export_list, p3_prbus_output_file_list, output_path)        \n"
   ]
  },
  {
   "cell_type": "markdown",
   "metadata": {},
   "source": [
    "####pm work"
   ]
  },
  {
   "cell_type": "code",
   "execution_count": 35,
   "metadata": {
    "collapsed": true,
    "show_input": true
   },
   "outputs": [],
   "source": [
    "p3_prbus_mf_export_list = [6092, 6093, 6094, 6095, 6096, 6097, 6098, 6099] \n",
    "p3_prbus_output_file_list = ['prBusautimePMWk', 'prBusautollPMWk', 'prBusautdistPMWk', 'prBusbusIVTPMWk', 'prBusbusWtPMWk', \n",
    "                             'prBusbordsPMWk', 'prBusauxPMWk', 'prBusfarePMWk'] \n",
    "batch_mat_exporter(p3_prbus_mf_export_list, p3_prbus_output_file_list, output_path)         "
   ]
  },
  {
   "cell_type": "markdown",
   "metadata": {},
   "source": [
    "####am nonwork"
   ]
  },
  {
   "cell_type": "code",
   "execution_count": 36,
   "metadata": {
    "collapsed": true,
    "show_input": true
   },
   "outputs": [],
   "source": [
    "p3_prbus_mf_export_list = [6137, 6138, 6139, 6140, 6141, 6142, 6143, 6144]\n",
    "p3_prbus_output_file_list = ['prBusautimeAMNWk', 'prBusautollAMNWk', 'prBusautdistAMNWk', 'prBusbusIVTAMNWk', 'prBusbusWtAMNWk',\n",
    "                             'prBusbordsAMNWk', 'prBusauxAMNWk', 'prBusfareAMNWk']\n",
    "batch_mat_exporter(p3_prbus_mf_export_list, p3_prbus_output_file_list, output_path)        \n"
   ]
  },
  {
   "cell_type": "markdown",
   "metadata": {},
   "source": [
    "####md nonwork"
   ]
  },
  {
   "cell_type": "code",
   "execution_count": 37,
   "metadata": {
    "collapsed": true,
    "show_input": true
   },
   "outputs": [],
   "source": [
    "p3_prbus_mf_export_list = [6177, 6178, 6179, 6180, 6181, 6182, 6183, 6184]\n",
    "p3_prbus_output_file_list = ['prBusautimeMDNWk', 'prBusautollMDNWk', 'prBusautdistMDNWk', 'prBusbusIVTMDNWk', 'prBusbusWtMDNWk', \n",
    "                             'prBusbordsMDNWk', 'prBusauxMDNWk', 'prBusfareMDNWk']\n",
    "batch_mat_exporter(p3_prbus_mf_export_list, p3_prbus_output_file_list, output_path)        "
   ]
  },
  {
   "cell_type": "markdown",
   "metadata": {},
   "source": [
    "####pm nonwork"
   ]
  },
  {
   "cell_type": "code",
   "execution_count": 38,
   "metadata": {
    "collapsed": true,
    "show_input": true
   },
   "outputs": [],
   "source": [
    "p3_prbus_mf_export_list = [6217, 6218, 6219, 6220, 6221, 6222, 6223, 6224]\n",
    "p3_prbus_output_file_list = ['prBusautimePMNWk', 'prBusautollPMNWk', 'prBusautdistPMNWk', 'prBusbusIVTPMNWk', 'prBusbusWtPMNWk', \n",
    "                             'prBusbordsPMNWk', 'prBusauxPMNWk', 'prBusfarePMNWk']\n",
    "batch_mat_exporter(p3_prbus_mf_export_list, p3_prbus_output_file_list, output_path)        \n",
    "        \n"
   ]
  },
  {
   "cell_type": "markdown",
   "metadata": {},
   "source": [
    "##Export P3 Park and Ride Rail Skims"
   ]
  },
  {
   "cell_type": "markdown",
   "metadata": {},
   "source": [
    "####am work"
   ]
  },
  {
   "cell_type": "code",
   "execution_count": 39,
   "metadata": {
    "collapsed": false,
    "show_input": true
   },
   "outputs": [],
   "source": [
    "p3_prrail_mf_export_list = [6017, 6018, 6019, 6020, 6021, 6022, 6023, 6024, 6025, 6026]\n",
    "p3_prrail_output_file_list = ['prRailautimeAMWk', 'prRailautollAMWk', 'prRailautdistAMWk', 'prRailrailIVTAMWk', 'prRailrailWtAMWk',\n",
    "                              'prRailbusIVTAMWk', 'prRailbusWtAMWk', 'prRailbordsAMWk', 'prRailauxAMWk', 'prRailfareAMWk']\n",
    "output_path = update_output_path('rail_pr_pa')\n",
    "batch_mat_exporter(p3_prrail_mf_export_list, p3_prrail_output_file_list, output_path)          \n"
   ]
  },
  {
   "cell_type": "markdown",
   "metadata": {},
   "source": [
    "####md work"
   ]
  },
  {
   "cell_type": "code",
   "execution_count": 40,
   "metadata": {
    "collapsed": true,
    "show_input": true
   },
   "outputs": [],
   "source": [
    "p3_prrail_mf_export_list = [6062, 6063, 6064, 6065, 6066, 6067, 6068, 6069, 6070, 6071]\n",
    "p3_prrail_output_file_list = ['prRailautimeMDWk', 'prRailautollMDWk', 'prRailautdistMDWk', 'prRailrailIVTMDWk', 'prRailrailWtMDWk',\n",
    "                              'prRailbusIVTMDWk', 'prRailbusWtMDWk', 'prRailbordsMDWk', 'prRailauxMDWk', 'prRailfareMDWk']\n",
    "batch_mat_exporter(p3_prrail_mf_export_list, p3_prrail_output_file_list, output_path)          "
   ]
  },
  {
   "cell_type": "markdown",
   "metadata": {},
   "source": [
    "####pm work"
   ]
  },
  {
   "cell_type": "code",
   "execution_count": 41,
   "metadata": {
    "collapsed": true,
    "show_input": true
   },
   "outputs": [],
   "source": [
    "p3_prrail_mf_export_list = [6102, 6103, 6104, 6105, 6106, 6107, 6108, 6109, 6110, 6111]\n",
    "p3_prrail_output_file_list = ['prRailautimePMWk', 'prRailautollPMWk', 'prRailautdistPMWk', 'prRailrailIVTPMWk', 'prRailrailWtPMWk',\n",
    "                              'prRailbusIVTPMWk', 'prRailbusWtPMWk', 'prRailbordsPMWk', 'prRailauxPMWk', 'prRailfarePMWk']\n",
    "batch_mat_exporter(p3_prrail_mf_export_list, p3_prrail_output_file_list, output_path)          \n"
   ]
  },
  {
   "cell_type": "markdown",
   "metadata": {},
   "source": [
    "####am nonwork"
   ]
  },
  {
   "cell_type": "code",
   "execution_count": 42,
   "metadata": {
    "collapsed": true,
    "show_input": true
   },
   "outputs": [],
   "source": [
    "p3_prrail_mf_export_list = [6147, 6148, 6149, 6150, 6151, 6152, 6153, 6154, 6155, 6156]\n",
    "p3_prrail_output_file_list = ['prRailautimeAMNWk', 'prRailautollAMNWk', 'prRailautdistAMNWk', 'prRailrailIVTAMNWk', 'prRailrailWtAMNWk',\n",
    "                              'prRailbusIVTAMNWk', 'prRailbusWtAMNWk', 'prRailbordsAMNWk', 'prRailauxAMNWk', 'prRailfareAMNWk']\n",
    "batch_mat_exporter(p3_prrail_mf_export_list, p3_prrail_output_file_list, output_path)          \n"
   ]
  },
  {
   "cell_type": "markdown",
   "metadata": {},
   "source": [
    "####md nonwork"
   ]
  },
  {
   "cell_type": "code",
   "execution_count": 43,
   "metadata": {
    "collapsed": true,
    "show_input": true
   },
   "outputs": [],
   "source": [
    "p3_prrail_mf_export_list = [6187, 6188, 6189, 6190, 6191, 6192, 6193, 6194, 6195, 6196]\n",
    "p3_prrail_output_file_list = ['prRailautimeMDNWk', 'prRailautollMDNWk', 'prRailautdistMDNWk', 'prRailrailIVTMDNWk', 'prRailrailWtMDNWk',\n",
    "                              'prRailbusIVTMDNWk', 'prRailbusWtMDNWk', 'prRailbordsMDNWk', 'prRailauxMDNWk', 'prRailfareMDNWk']\n",
    "batch_mat_exporter(p3_prrail_mf_export_list, p3_prrail_output_file_list, output_path)          "
   ]
  },
  {
   "cell_type": "markdown",
   "metadata": {},
   "source": [
    "####pm nonwork"
   ]
  },
  {
   "cell_type": "code",
   "execution_count": 44,
   "metadata": {
    "collapsed": true,
    "show_input": true
   },
   "outputs": [],
   "source": [
    "p3_prrail_mf_export_list = [6227, 6228, 6229, 6230, 6231, 6232, 6233, 6234, 6235, 6236]\n",
    "p3_prrail_output_file_list = ['prRailautimePMNWk', 'prRailautollPMNWk', 'prRailautdistPMNWk', 'prRailrailIVTPMNWk', 'prRailrailWtPMNWk',\n",
    "                              'prRailbusIVTPMNWk', 'prRailbusWtPMNWk', 'prRailbordsPMNWk', 'prRailauxPMNWk', 'prRailfarePMNWk']\n",
    "batch_mat_exporter(p3_prrail_mf_export_list, p3_prrail_output_file_list, output_path)          "
   ]
  },
  {
   "cell_type": "markdown",
   "metadata": {},
   "source": [
    "##Export P3 Park and Ride WCE Skims"
   ]
  },
  {
   "cell_type": "markdown",
   "metadata": {},
   "source": [
    "####am work"
   ]
  },
  {
   "cell_type": "code",
   "execution_count": 45,
   "metadata": {
    "collapsed": true,
    "show_input": true
   },
   "outputs": [],
   "source": [
    "p3_prwce_mf_export_list = [6032, 6033, 6034, 6035, 6036, 6037, 6038, 6039, 6040, 6041, 6042, 6043]\n",
    "p3_prwce_output_file_list = ['prWCEautimeAMWk', 'prWCEautollAMWk', 'prWCEautdistAMWk', 'prWCEwceIVTAMWk', 'prWCEwceWtAMWk', \n",
    "                             'prWCErailIVTAMWk', 'prWCErailWtAMWk', 'prWCEbusIVTAMWk', 'prWCEbusWtAMWk', 'prWCEbordsAMWk',\n",
    "                             'prWCEauxAMWk', 'prWCEfareAMWk']\n",
    "output_path = update_output_path('wce_pr_pa')\n",
    "batch_mat_exporter(p3_prwce_mf_export_list, p3_prwce_output_file_list, output_path)            \n",
    "        \n"
   ]
  },
  {
   "cell_type": "markdown",
   "metadata": {},
   "source": [
    "####md work"
   ]
  },
  {
   "cell_type": "code",
   "execution_count": 46,
   "metadata": {
    "collapsed": true,
    "show_input": true
   },
   "outputs": [],
   "source": [
    "\"\"\"\n",
    "p3_prwce_mf_export_list = [6077, 6078, 6079, 6080, 6081, 6082, 6083, 6084, 6085, 6086, 6087, 6088]\n",
    "p3_prwce_output_file_list = ['prWCEautimeMDWk', 'prWCEautollMDWk', 'prWCEautdistMDWk', 'prWCEwceIVTMDWk', 'prWCEwceWtMDWk',\n",
    "                             'prWCErailIVTMDWk', 'prWCErailWtMDWk', 'prWCEbusIVTMDWk', 'prWCEbusWtMDWk', 'prWCEbordsMDWk',\n",
    "                             'prWCEauxMDWk', 'prWCEfareMDWk']\n",
    "batch_mat_exporter(p3_prwce_mf_export_list, p3_prwce_output_file_list, output_path)            \n",
    "\"\"\""
   ]
  },
  {
   "cell_type": "markdown",
   "metadata": {},
   "source": [
    "####pm work"
   ]
  },
  {
   "cell_type": "code",
   "execution_count": 47,
   "metadata": {
    "collapsed": true,
    "show_input": true
   },
   "outputs": [],
   "source": [
    "p3_prwce_mf_export_list = [6117, 6118, 6119, 6120, 6121, 6122, 6123, 6124, 6125, 6126, 6127, 6128]\n",
    "p3_prwce_output_file_list = ['prWCEautimePMWk', 'prWCEautollPMWk', 'prWCEautdistPMWk', 'prWCEwceIVTPMWk', 'prWCEwceWtPMWk', \n",
    "                             'prWCErailIVTPMWk', 'prWCErailWtPMWk', 'prWCEbusIVTPMWk', 'prWCEbusWtPMWk', 'prWCEbordsPMWk', \n",
    "                             'prWCEauxPMWk', 'prWCEfarePMWk']\n",
    "batch_mat_exporter(p3_prwce_mf_export_list, p3_prwce_output_file_list, output_path)            \n"
   ]
  },
  {
   "cell_type": "markdown",
   "metadata": {},
   "source": [
    "####am nonwork"
   ]
  },
  {
   "cell_type": "code",
   "execution_count": 48,
   "metadata": {
    "collapsed": true,
    "show_input": true
   },
   "outputs": [],
   "source": [
    "p3_prwce_mf_export_list = [6162, 6163, 6164, 6165, 6166, 6167, 6168, 6169, 6170, 6171, 6172, 6173]\n",
    "p3_prwce_output_file_list = ['prWCEautimeAMNWk', 'prWCEautollAMNWk', 'prWCEautdistAMNWk', 'prWCEwceIVTAMNWk', 'prWCEwceWtAMNWk',\n",
    "                             'prWCErailIVTAMNWk', 'prWCErailWtAMNWk', 'prWCEbusIVTAMNWk', 'prWCEbusWtAMNWk', 'prWCEbordsAMNWk', \n",
    "                             'prWCEauxAMNWk', 'prWCEfareAMNWk']\n",
    "batch_mat_exporter(p3_prwce_mf_export_list, p3_prwce_output_file_list, output_path)            \n"
   ]
  },
  {
   "cell_type": "markdown",
   "metadata": {},
   "source": [
    "####md nonwork"
   ]
  },
  {
   "cell_type": "code",
   "execution_count": 49,
   "metadata": {
    "collapsed": true,
    "show_input": true
   },
   "outputs": [],
   "source": [
    "p3_prwce_mf_export_list = [6202, 6203, 6204, 6205, 6206, 6207, 6208, 6209, 6210, 6211, 6212, 6213]\n",
    "p3_prwce_output_file_list = ['prWCEautimeMDNWk', 'prWCEautollMDNWk', 'prWCEautdistMDNWk', 'prWCEwceIVTMDNWk', 'prWCEwceWtMDNWk',\n",
    "                             'prWCErailIVTMDNWk', 'prWCErailWtMDNWk', 'prWCEbusIVTMDNWk', 'prWCEbusWtMDNWk', 'prWCEbordsMDNWk',\n",
    "                             'prWCEauxMDNWk', 'prWCEfareMDNWk']\n",
    "batch_mat_exporter(p3_prwce_mf_export_list, p3_prwce_output_file_list, output_path)            "
   ]
  },
  {
   "cell_type": "markdown",
   "metadata": {},
   "source": [
    "####pm nonwork"
   ]
  },
  {
   "cell_type": "code",
   "execution_count": 50,
   "metadata": {
    "collapsed": true,
    "show_input": true
   },
   "outputs": [],
   "source": [
    "p3_prwce_mf_export_list = [6242, 6243, 6244, 6245, 6246, 6247, 6248, 6249, 6250, 6251, 6252, 6253]\n",
    "p3_prwce_output_file_list = ['prWCEautimePMNWk', 'prWCEautollPMNWk', 'prWCEautdistPMNWk', 'prWCEwceIVTPMNWk', 'prWCEwceWtPMNWk',\n",
    "                             'prWCErailIVTPMNWk', 'prWCErailWtPMNWk', 'prWCEbusIVTPMNWk', 'prWCEbusWtPMNWk', 'prWCEbordsPMNWk', \n",
    "                             'prWCEauxPMNWk', 'prWCEfarePMNWk']\n",
    "batch_mat_exporter(p3_prwce_mf_export_list, p3_prwce_output_file_list, output_path)            \n"
   ]
  },
  {
   "cell_type": "markdown",
   "metadata": {},
   "source": [
    "##Export P3 Park and Ride Best Lot Choice"
   ]
  },
  {
   "cell_type": "markdown",
   "metadata": {},
   "source": [
    "####work trips"
   ]
  },
  {
   "cell_type": "code",
   "execution_count": 51,
   "metadata": {
    "collapsed": true,
    "show_input": true
   },
   "outputs": [],
   "source": [
    "p3__mf_export_list = [6000, 6001, 6002]\n",
    "p3__output_file_list = ['prBuslotChceWkPA', 'prRaillotChceWkPA', 'prWCElotChceWkPA']\n",
    "output_path = update_output_path('transit')\n",
    "batch_mat_exporter(p3__mf_export_list, p3__output_file_list, output_path)   "
   ]
  },
  {
   "cell_type": "markdown",
   "metadata": {},
   "source": [
    "####nonwork trips"
   ]
  },
  {
   "cell_type": "code",
   "execution_count": 52,
   "metadata": {
    "collapsed": true,
    "show_input": true
   },
   "outputs": [],
   "source": [
    "p3__mf_export_list = [6130, 6131, 6132]\n",
    "p3__output_file_list = ['prBuslotChceNWkPA', 'prRaillotChceNWkPA', 'prWCElotChceNWkPA']\n",
    "batch_mat_exporter(p3__mf_export_list, p3__output_file_list, output_path)   "
   ]
  },
  {
   "cell_type": "code",
   "execution_count": null,
   "metadata": {
    "collapsed": true,
    "show_input": true
   },
   "outputs": [],
   "source": [
    "#### Export P3 Park and Ride Bus AP direction"
   ]
  },
  {
   "cell_type": "code",
   "execution_count": null,
   "metadata": {
    "collapsed": true
   },
   "outputs": [],
   "source": []
  },
  {
   "cell_type": "code",
   "execution_count": null,
   "metadata": {
    "collapsed": true
   },
   "outputs": [],
   "source": [
    "p3_prbus_mf_export_list =\t[6307,\t6308,\t6309,\t6310,\t6311,\t6312,\t6313,\t6314]\n",
    "p3_prbus_output_file_list =\t['prBusautimeAMWk',\t'prBusautollAMWk',\t'prBusautdistAMWk',\t'prBusbusIVTAMWk',\t'prBusbusWtAMWk',\t'prBusbordsAMWk',\t'prBusauxAMWk',\t'prBusfareAMWk']\n",
    "batch_mat_exporter(p3_prbus_mf_export_list, p3_prbus_output_file_list, output_path)"
   ]
  },
  {
   "cell_type": "code",
   "execution_count": null,
   "metadata": {
    "collapsed": true
   },
   "outputs": [],
   "source": []
  },
  {
   "cell_type": "code",
   "execution_count": null,
   "metadata": {
    "collapsed": true
   },
   "outputs": [],
   "source": []
  }
 ],
 "metadata": {
  "kernelspec": {
   "display_name": "Python 2",
   "language": "python",
   "name": "python2"
  },
  "language_info": {
   "codemirror_mode": {
    "name": "ipython",
    "version": 2
   },
   "file_extension": ".py",
   "mimetype": "text/x-python",
   "name": "python",
   "nbconvert_exporter": "python",
   "pygments_lexer": "ipython2",
   "version": "2.7.9"
  }
 },
 "nbformat": 4,
 "nbformat_minor": 0
}

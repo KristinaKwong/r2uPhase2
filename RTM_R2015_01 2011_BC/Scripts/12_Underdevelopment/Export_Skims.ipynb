{
 "cells": [
  {
   "cell_type": "markdown",
   "metadata": {},
   "source": [
    "## Setup"
   ]
  },
  {
   "cell_type": "code",
   "execution_count": 3,
   "metadata": {
    "collapsed": true,
    "show_input": true
   },
   "outputs": [],
   "source": [
    "import inro.modeller as _m\n",
    "import os"
   ]
  },
  {
   "cell_type": "code",
   "execution_count": 4,
   "metadata": {
    "collapsed": true,
    "show_input": true
   },
   "outputs": [],
   "source": [
    "emmebank_dir = os.path.dirname(_m.Modeller().emmebank.path)\n",
    "userpath = os.path.expanduser('~')\n",
    "output_path = userpath + '\\\\desktop\\\\skim'\n",
    "\n",
    "if not os.path.exists(output_path):\n",
    "    os.makedirs(output_path)"
   ]
  },
  {
   "cell_type": "code",
   "execution_count": 5,
   "metadata": {
    "collapsed": true,
    "show_input": true
   },
   "outputs": [],
   "source": [
    "export_matrix = _m.Modeller().tool('inro.emme.data.matrix.export_matrices')"
   ]
  },
  {
   "cell_type": "code",
   "execution_count": 6,
   "metadata": {
    "collapsed": true,
    "show_input": true
   },
   "outputs": [],
   "source": [
    "def batch_mat_exporter(mf_export_list, output_file_list, output_path):\n",
    "    for i in range(0, len(mf_export_list)):\n",
    "        current_mat = 'mf%d' % mf_export_list[i]\n",
    "        ofile = '%s.txt' % output_file_list[i]\n",
    "        output_file = os.path.join(output_path, ofile)\n",
    "        export_matrix(matrices=current_mat,\n",
    "                    export_file=output_file, \n",
    "                    field_separator='TAB',\n",
    "                    export_format=\"PROMPT_DATA_FORMAT\",\n",
    "                    skip_default_values=False,\n",
    "                    full_matrix_line_format=\"ONE_ENTRY_PER_LINE\")"
   ]
  },
  {
   "cell_type": "markdown",
   "metadata": {},
   "source": [
    "## Export Auto Skims"
   ]
  },
  {
   "cell_type": "code",
   "execution_count": 33,
   "metadata": {
    "collapsed": false,
    "show_input": true
   },
   "outputs": [],
   "source": [
    "auto_mf_export_list = [100,101,102,103,104,105,2100,2101,2102]"
   ]
  },
  {
   "cell_type": "code",
   "execution_count": 34,
   "metadata": {
    "collapsed": true,
    "show_input": true
   },
   "outputs": [],
   "source": [
    "auto_output_file_list = ['AutoDistanceAM','AutoTimeAM','AutoTollAM','AutoDistanceMD','AutoTimeMD','AutoTollMD','AutoDistancePM',\n",
    "                    'AutoTimePM','AutoTollPM']"
   ]
  },
  {
   "cell_type": "code",
   "execution_count": 35,
   "metadata": {
    "collapsed": false,
    "show_input": true
   },
   "outputs": [],
   "source": [
    "batch_mat_exporter(auto_mf_export_list, auto_output_file_list, output_path)"
   ]
  },
  {
   "cell_type": "markdown",
   "metadata": {},
   "source": [
    "## Export Bus Skims"
   ]
  },
  {
   "cell_type": "code",
   "execution_count": 36,
   "metadata": {
    "collapsed": true,
    "show_input": true
   },
   "outputs": [],
   "source": [
    "bus_mf_export_list = [106,107,108,109,110,111,112,113,114,115,2106,2107,2018,2109,2110]"
   ]
  },
  {
   "cell_type": "code",
   "execution_count": 37,
   "metadata": {
    "collapsed": true,
    "show_input": true
   },
   "outputs": [],
   "source": [
    "bus_output_file_list = ['BusTotalWaitAM','BusIVTTAM','BusAvgBoardAM','BusAuxAM','BusFlagAM','BusTotalWaitMD','BusIVTTMD',\n",
    "                    'BusAvgBoardMD','BusAuxMD','BusFlagMD','BusTotalWaitPM','BusIVTTPM','BusAvgBoardPM','BusAuxPM','BusFlagPM']"
   ]
  },
  {
   "cell_type": "code",
   "execution_count": 38,
   "metadata": {
    "collapsed": true,
    "show_input": true
   },
   "outputs": [],
   "source": [
    "batch_mat_exporter(bus_mf_export_list, bus_output_file_list, output_path)"
   ]
  },
  {
   "cell_type": "markdown",
   "metadata": {},
   "source": [
    "## Export Rail Skims"
   ]
  },
  {
   "cell_type": "code",
   "execution_count": 39,
   "metadata": {
    "collapsed": true,
    "show_input": true
   },
   "outputs": [],
   "source": [
    "rail_mf_export_list = [116,117,118,119,120,121,122,123,124,125,126,127,128,129,130,131,2116,2117,2118,2119,2120,2121,2122,2123]"
   ]
  },
  {
   "cell_type": "code",
   "execution_count": 40,
   "metadata": {
    "collapsed": true,
    "show_input": true
   },
   "outputs": [],
   "source": [
    "rail_output_file_list = ['RailBusIVTTAM','RailRailIVTTAM','RailTotalWaitAM','RailAvgBoardAM','RailAuxAM','RailFlagAM',\n",
    "                         'AuxFlagAM','TotalRlTimeFlagAM','RailBusIVTTMD','RailRailIVTTMD','RailTotalWaitMD','RailAvgBoardMD',\n",
    "                         'RailAuxMD','RailFlagMD','AuxFlagMD','TotalRlTimeFlagMD','RailBusIVTTPM','RailRailIVTTPM',\n",
    "                         'RailTotalWaitPM','RailAvgBoardPM','RailAuxPM','RailFlagPM','AuxFlagPM','TotalRlTimeFlagPM']"
   ]
  },
  {
   "cell_type": "code",
   "execution_count": 41,
   "metadata": {
    "collapsed": true,
    "show_input": true
   },
   "outputs": [],
   "source": [
    "batch_mat_exporter(rail_mf_export_list, rail_output_file_list, output_path)"
   ]
  },
  {
   "cell_type": "markdown",
   "metadata": {},
   "source": [
    "## Export Other Transit Skims"
   ]
  },
  {
   "cell_type": "code",
   "execution_count": 42,
   "metadata": {
    "collapsed": true,
    "show_input": true
   },
   "outputs": [],
   "source": [
    "transit_mf_export_list = [160,161,162,163,164,167,168,2163,2164]"
   ]
  },
  {
   "cell_type": "code",
   "execution_count": 43,
   "metadata": {
    "collapsed": true,
    "show_input": true
   },
   "outputs": [],
   "source": [
    "transit_output_file_list = ['Bus Fare','Rail Fare','Final SkimSchooBus','TransitOVTTAM','TransitIVTTAM','TransitOVTTMD',\n",
    "                            'TransitIVTTMD','TransitOVTTPM','TransitIVTTPM']"
   ]
  },
  {
   "cell_type": "code",
   "execution_count": 44,
   "metadata": {
    "collapsed": false,
    "scrolled": true,
    "show_input": true
   },
   "outputs": [],
   "source": [
    "batch_mat_exporter(transit_mf_export_list, transit_output_file_list, output_path)"
   ]
  },
  {
   "cell_type": "markdown",
   "metadata": {},
   "source": [
    "## Export P3 Rail Skims"
   ]
  },
  {
   "cell_type": "code",
   "execution_count": 7,
   "metadata": {
    "collapsed": true
   },
   "outputs": [],
   "source": [
    "p3_rail_mf_export_list = [5000,5001,5002,5003,5004,5005,5006,5007,5008,5009,5010,5011,5012,5013,5014]"
   ]
  },
  {
   "cell_type": "code",
   "execution_count": 8,
   "metadata": {
    "collapsed": true
   },
   "outputs": [],
   "source": [
    "p3_rail_output_file_list = ['RailBusIVTTAM','RailRailIVTTAM','RailTotalWaitAM','RailAvgBoardAM','RailAuxAM',\n",
    "                         'RailBusIVTTMD','RailRailIVTTMD','RailTotalWaitMD','RailAvgBoardMD','RailAuxMD',\n",
    "                         'RailBusIVTTPM','RailRailIVTTPM','RailTotalWaitPM','RailAvgBoardPM','RailAuxPM']"
   ]
  },
  {
   "cell_type": "code",
   "execution_count": 10,
   "metadata": {
    "collapsed": false
   },
   "outputs": [],
   "source": [
    "batch_mat_exporter(p3_rail_mf_export_list, p3_rail_output_file_list, output_path)"
   ]
  },
  {
   "cell_type": "markdown",
   "metadata": {},
   "source": [
    "## Export P3 WCE skims"
   ]
  },
  {
   "cell_type": "code",
   "execution_count": 11,
   "metadata": {
    "collapsed": true
   },
   "outputs": [],
   "source": [
    "p3_wce_mf_export_list = [5050,5051,5052,5053,5054,5055,5056,5057,5058,5059,5060,5061,5062,5063,5064,5065,5066,5067]"
   ]
  },
  {
   "cell_type": "code",
   "execution_count": 12,
   "metadata": {
    "collapsed": true
   },
   "outputs": [],
   "source": [
    "p3_wce_output_file_list = ['WCEBusIVTTAM','WCERailIVTTAM','WCEWCEIVTTAM','WCETotalWaitAM','WCEAvgBoardAM','WCEAuxAM',\n",
    "                         'WCEBusIVTTMD','WCERailIVTTMD','WCEWCEIVTTMD','WCETotalWaitMD','WCEAvgBoardMD','WCEAuxMD',\n",
    "                         'WCEBusIVTTPM','WCERailIVTTPM','WCEWCEIVTTPM','WCETotalWaitPM','WCEAvgBoardPM','WCEAuxPM']"
   ]
  },
  {
   "cell_type": "code",
   "execution_count": 13,
   "metadata": {
    "collapsed": true
   },
   "outputs": [],
   "source": [
    "batch_mat_exporter(p3_wce_mf_export_list, p3_wce_output_file_list, output_path)"
   ]
  },
  {
   "cell_type": "markdown",
   "metadata": {},
   "source": [
    "## Export P3 Park and Ride Bus Skims"
   ]
  },
  {
   "cell_type": "markdown",
   "metadata": {},
   "source": [
    "####am work"
   ]
  },
  {
   "cell_type": "code",
   "execution_count": 16,
   "metadata": {
    "collapsed": false,
    "scrolled": true
   },
   "outputs": [],
   "source": [
    "p3_prbus_mf_export_list = [6007, 6008, 6009, 6010, 6011, 6012, 6013, 6014]\n",
    "p3_prbus_output_file_list = ['prBusautimeAMWk', 'prBusautollAMWk', 'prBusautdistAMWk', 'prBusbusIVTAMWk', 'prBusbusWtAMWk', \n",
    "                             'prBusbordsAMWk', 'prBusauxAMWk', 'prBusfareAMWk']\n",
    "batch_mat_exporter(p3_prbus_mf_export_list, p3_prbus_output_file_list, output_path)        \n"
   ]
  },
  {
   "cell_type": "markdown",
   "metadata": {},
   "source": [
    "####md work"
   ]
  },
  {
   "cell_type": "code",
   "execution_count": 17,
   "metadata": {
    "collapsed": true
   },
   "outputs": [],
   "source": [
    "p3_prbus_mf_export_list = [6052, 6053, 6054, 6055, 6056, 6057, 6058, 6059]\n",
    "p3_prbus_output_file_list = ['prBusautimeMDWk', 'prBusautollMDWk', 'prBusautdistMDWk', 'prBusbusIVTMDWk', 'prBusbusWtMDWk',\n",
    "                             'prBusbordsMDWk', 'prBusauxMDWk', 'prBusfareMDWk']\n",
    "batch_mat_exporter(p3_prbus_mf_export_list, p3_prbus_output_file_list, output_path)        \n"
   ]
  },
  {
   "cell_type": "markdown",
   "metadata": {},
   "source": [
    "####pm work"
   ]
  },
  {
   "cell_type": "code",
   "execution_count": 18,
   "metadata": {
    "collapsed": true
   },
   "outputs": [],
   "source": [
    "p3_prbus_mf_export_list = [6092, 6093, 6094, 6095, 6096, 6097, 6098, 6099] \n",
    "p3_prbus_output_file_list = ['prBusautimePMWk', 'prBusautollPMWk', 'prBusautdistPMWk', 'prBusbusIVTPMWk', 'prBusbusWtPMWk', \n",
    "                             'prBusbordsPMWk', 'prBusauxPMWk', 'prBusfarePMWk'] \n",
    "batch_mat_exporter(p3_prbus_mf_export_list, p3_prbus_output_file_list, output_path)         "
   ]
  },
  {
   "cell_type": "markdown",
   "metadata": {},
   "source": [
    "####am nonwork"
   ]
  },
  {
   "cell_type": "code",
   "execution_count": 19,
   "metadata": {
    "collapsed": true
   },
   "outputs": [],
   "source": [
    "p3_prbus_mf_export_list = [6137, 6138, 6139, 6140, 6141, 6142, 6143, 6144]\n",
    "p3_prbus_output_file_list = ['prBusautimeAMNWk', 'prBusautollAMNWk', 'prBusautdistAMNWk', 'prBusbusIVTAMNWk', 'prBusbusWtAMNWk',\n",
    "                             'prBusbordsAMNWk', 'prBusauxAMNWk', 'prBusfareAMNWk']\n",
    "batch_mat_exporter(p3_prbus_mf_export_list, p3_prbus_output_file_list, output_path)        \n"
   ]
  },
  {
   "cell_type": "markdown",
   "metadata": {},
   "source": [
    "####md nonwork"
   ]
  },
  {
   "cell_type": "code",
   "execution_count": 20,
   "metadata": {
    "collapsed": true
   },
   "outputs": [],
   "source": [
    "p3_prbus_mf_export_list = [6177, 6178, 6179, 6180, 6181, 6182, 6183, 6184]\n",
    "p3_prbus_output_file_list = ['prBusautimeMDNWk', 'prBusautollMDNWk', 'prBusautdistMDNWk', 'prBusbusIVTMDNWk', 'prBusbusWtMDNWk', \n",
    "                             'prBusbordsMDNWk', 'prBusauxMDNWk', 'prBusfareMDNWk']\n",
    "batch_mat_exporter(p3_prbus_mf_export_list, p3_prbus_output_file_list, output_path)        "
   ]
  },
  {
   "cell_type": "markdown",
   "metadata": {},
   "source": [
    "####pm nonwork"
   ]
  },
  {
   "cell_type": "code",
   "execution_count": 21,
   "metadata": {
    "collapsed": true
   },
   "outputs": [],
   "source": [
    "p3_prbus_mf_export_list = [6217, 6218, 6219, 6220, 6221, 6222, 6223, 6224]\n",
    "p3_prbus_output_file_list = ['prBusautimePMNWk', 'prBusautollPMNWk', 'prBusautdistPMNWk', 'prBusbusIVTPMNWk', 'prBusbusWtPMNWk', 'prBusbordsPMNWk', 'prBusauxPMNWk', 'prBusfarePMNWk']\n",
    "batch_mat_exporter(p3_prbus_mf_export_list, p3_prbus_output_file_list, output_path)        \n",
    "        \n"
   ]
  },
  {
   "cell_type": "code",
   "execution_count": null,
   "metadata": {
    "collapsed": true
   },
   "outputs": [],
   "source": []
  },
  {
   "cell_type": "code",
   "execution_count": null,
   "metadata": {
    "collapsed": true
   },
   "outputs": [],
   "source": []
  },
  {
   "cell_type": "code",
   "execution_count": null,
   "metadata": {
    "collapsed": true
   },
   "outputs": [],
   "source": []
  }
 ],
 "metadata": {
  "kernelspec": {
   "display_name": "Python 2",
   "language": "python",
   "name": "python2"
  },
  "language_info": {
   "codemirror_mode": {
    "name": "ipython",
    "version": 2
   },
   "file_extension": ".py",
   "mimetype": "text/x-python",
   "name": "python",
   "nbconvert_exporter": "python",
   "pygments_lexer": "ipython2",
   "version": "2.7.9"
  }
 },
 "nbformat": 4,
 "nbformat_minor": 0
}

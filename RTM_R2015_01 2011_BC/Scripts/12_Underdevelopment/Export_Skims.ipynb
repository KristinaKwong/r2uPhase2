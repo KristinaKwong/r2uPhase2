{
 "cells": [
  {
   "cell_type": "markdown",
   "metadata": {},
   "source": [
    "## Setup"
   ]
  },
  {
   "cell_type": "code",
   "execution_count": 2,
   "metadata": {
    "collapsed": true,
    "show_input": true
   },
   "outputs": [],
   "source": [
    "import inro.modeller as _m\n",
    "import os"
   ]
  },
  {
   "cell_type": "code",
   "execution_count": 4,
   "metadata": {
    "collapsed": true,
    "show_input": true
   },
   "outputs": [],
   "source": [
    "emmebank_dir = os.path.dirname(_m.Modeller().emmebank.path)\n",
    "userpath = os.path.expanduser('~')\n",
    "output_path = userpath + '\\\\desktop\\\\skim'\n",
    "\n",
    "if not os.path.exists(output_path):\n",
    "    os.makedirs(output_path)"
   ]
  },
  {
   "cell_type": "code",
   "execution_count": null,
   "metadata": {
    "collapsed": true
   },
   "outputs": [],
   "source": [
    "export_matrix = _m.Modeller().tool('inro.emme.data.matrix.export_matrices')"
   ]
  },
  {
   "cell_type": "code",
   "execution_count": 5,
   "metadata": {
    "collapsed": true,
    "show_input": true
   },
   "outputs": [],
   "source": [
    "def batch_mat_exporter(mf_export_list, output_file_list, output_path):\n",
    "    for i in range(0, len(mf_export_list)):\n",
    "        current_mat = 'mf%d' % mf_export_list[i]\n",
    "        ofile = '%s.txt' % output_file_list[i]\n",
    "        output_file = os.path.join(output_path, ofile)\n",
    "        export_matrix(matrices=current_mat,\n",
    "                    export_file=output_file, \n",
    "                    field_separator='TAB',\n",
    "                    export_format=\"PROMPT_DATA_FORMAT\",\n",
    "                    skip_default_values=False,\n",
    "                    full_matrix_line_format=\"ONE_ENTRY_PER_LINE\")"
   ]
  },
  {
   "cell_type": "markdown",
   "metadata": {},
   "source": [
    "## Export Auto Skims"
   ]
  },
  {
   "cell_type": "code",
   "execution_count": 33,
   "metadata": {
    "collapsed": false,
    "show_input": true
   },
   "outputs": [],
   "source": [
    "auto_mf_export_list = [100,101,102,103,104,105,2100,2101,2102]"
   ]
  },
  {
   "cell_type": "code",
   "execution_count": 34,
   "metadata": {
    "collapsed": true,
    "show_input": true
   },
   "outputs": [],
   "source": [
    "auto_output_file_list = ['AutoDistanceAM','AutoTimeAM','AutoTollAM','AutoDistanceMD','AutoTimeMD','AutoTollMD','AutoDistancePM',\n",
    "                    'AutoTimePM','AutoTollPM']"
   ]
  },
  {
   "cell_type": "code",
   "execution_count": 35,
   "metadata": {
    "collapsed": false,
    "show_input": true
   },
   "outputs": [],
   "source": [
    "batch_mat_exporter(auto_mf_export_list, auto_output_file_list, output_path)"
   ]
  },
  {
   "cell_type": "markdown",
   "metadata": {},
   "source": [
    "## Export Bus Skims"
   ]
  },
  {
   "cell_type": "code",
   "execution_count": 36,
   "metadata": {
    "collapsed": true,
    "show_input": true
   },
   "outputs": [],
   "source": [
    "bus_mf_export_list = [106,107,108,109,110,111,112,113,114,115,2106,2107,2018,2109,2110]"
   ]
  },
  {
   "cell_type": "code",
   "execution_count": 37,
   "metadata": {
    "collapsed": true,
    "show_input": true
   },
   "outputs": [],
   "source": [
    "bus_output_file_list = ['BusTotalWaitAM','BusIVTTAM','BusAvgBoardAM','BusAuxAM','BusFlagAM','BusTotalWaitMD','BusIVTTMD',\n",
    "                    'BusAvgBoardMD','BusAuxMD','BusFlagMD','BusTotalWaitPM','BusIVTTPM','BusAvgBoardPM','BusAuxPM','BusFlagPM']"
   ]
  },
  {
   "cell_type": "code",
   "execution_count": 38,
   "metadata": {
    "collapsed": true,
    "show_input": true
   },
   "outputs": [],
   "source": [
    "batch_mat_exporter(bus_mf_export_list, bus_output_file_list, output_path)"
   ]
  },
  {
   "cell_type": "markdown",
   "metadata": {},
   "source": [
    "## Export Rail Skims"
   ]
  },
  {
   "cell_type": "code",
   "execution_count": 39,
   "metadata": {
    "collapsed": true,
    "show_input": true
   },
   "outputs": [],
   "source": [
    "rail_mf_export_list = [116,117,118,119,120,121,122,123,124,125,126,127,128,129,130,131,2116,2117,2118,2119,2120,2121,2122,2123]"
   ]
  },
  {
   "cell_type": "code",
   "execution_count": 40,
   "metadata": {
    "collapsed": true,
    "show_input": true
   },
   "outputs": [],
   "source": [
    "rail_output_file_list = ['RailBusIVTTAM','RailRailIVTTAM','RailTotalWaitAM','RailAvgBoardAM','RailAuxAM','RailFlagAM',\n",
    "                         'AuxFlagAM','TotalRlTimeFlagAM','RailBusIVTTMD','RailRailIVTTMD','RailTotalWaitMD','RailAvgBoardMD',\n",
    "                         'RailAuxMD','RailFlagMD','AuxFlagMD','TotalRlTimeFlagMD','RailBusIVTTPM','RailRailIVTTPM',\n",
    "                         'RailTotalWaitPM','RailAvgBoardPM','RailAuxPM','RailFlagPM','AuxFlagPM','TotalRlTimeFlagPM']"
   ]
  },
  {
   "cell_type": "code",
   "execution_count": 41,
   "metadata": {
    "collapsed": true,
    "show_input": true
   },
   "outputs": [],
   "source": [
    "batch_mat_exporter(rail_mf_export_list, rail_output_file_list, output_path)"
   ]
  },
  {
   "cell_type": "markdown",
   "metadata": {},
   "source": [
    "## Export Other Transit Skims"
   ]
  },
  {
   "cell_type": "code",
   "execution_count": 42,
   "metadata": {
    "collapsed": true,
    "show_input": true
   },
   "outputs": [],
   "source": [
    "transit_mf_export_list = [160,161,162,163,164,167,168,2163,2164]"
   ]
  },
  {
   "cell_type": "code",
   "execution_count": 43,
   "metadata": {
    "collapsed": true,
    "show_input": true
   },
   "outputs": [],
   "source": [
    "transit_output_file_list = ['Bus Fare','Rail Fare','Final SkimSchooBus','TransitOVTTAM','TransitIVTTAM','TransitOVTTMD',\n",
    "                            'TransitIVTTMD','TransitOVTTPM','TransitIVTTPM']"
   ]
  },
  {
   "cell_type": "code",
   "execution_count": 44,
   "metadata": {
    "collapsed": false,
    "scrolled": true,
    "show_input": true
   },
   "outputs": [],
   "source": [
    "batch_mat_exporter(transit_mf_export_list, transit_output_file_list, output_path)"
   ]
  }
 ],
 "metadata": {
  "kernelspec": {
   "display_name": "Python 2",
   "language": "python",
   "name": "python2"
  },
  "language_info": {
   "codemirror_mode": {
    "name": "ipython",
    "version": 2
   },
   "file_extension": ".py",
   "mimetype": "text/x-python",
   "name": "python",
   "nbconvert_exporter": "python",
   "pygments_lexer": "ipython2",
   "version": "2.7.9"
  }
 },
 "nbformat": 4,
 "nbformat_minor": 0
}

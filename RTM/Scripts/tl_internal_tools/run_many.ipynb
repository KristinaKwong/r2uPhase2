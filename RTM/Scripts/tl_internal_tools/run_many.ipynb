{
 "cells": [
  {
   "cell_type": "code",
   "execution_count": null,
   "metadata": {
    "collapsed": true,
    "show_input": true
   },
   "outputs": [],
   "source": [
    "import inro.modeller as _m\n",
    "import inro.emme.desktop as _d\n",
    "import csv\n",
    "import os\n",
    "import multiprocessing\n",
    "import numpy as np\n",
    "import pandas as pd\n",
    "import sqlite3\n",
    "import traceback as _traceback"
   ]
  },
  {
   "cell_type": "code",
   "execution_count": null,
   "metadata": {
    "collapsed": true,
    "show_input": true
   },
   "outputs": [],
   "source": [
    "dt = _d.app.connect()\n",
    "de = dt.data_explorer()\n",
    "db = de.active_database()\n",
    "ebs = de.databases()"
   ]
  },
  {
   "cell_type": "markdown",
   "metadata": {},
   "source": [
    "# Get List of Scenarios from Desktop\n",
    "### Make sure spelling is correct in params dictionary below or run will FAIL!!!"
   ]
  },
  {
   "cell_type": "code",
   "execution_count": null,
   "metadata": {
    "collapsed": false,
    "show_input": true
   },
   "outputs": [],
   "source": [
    "# make sure modeller is closed or it will print to the python console in there\n",
    "for eb in ebs:\n",
    "    print eb.title()"
   ]
  },
  {
   "cell_type": "markdown",
   "metadata": {},
   "source": [
    "# Set Parameters"
   ]
  },
  {
   "cell_type": "code",
   "execution_count": null,
   "metadata": {
    "collapsed": true,
    "show_input": true
   },
   "outputs": [],
   "source": [
    "params = {\n",
    "'Mt 2011' : {'horizon_year' : 2011,\n",
    "                          'global_iterations' : 4,\n",
    "                          'master_scen' : 1000,\n",
    "                          'max_distribution_iterations' : 60,\n",
    "                          'max_assignment_iterations' : 200,\n",
    "                          'run_congested_transit' : True,\n",
    "                          'run_capacited_transit' : True,\n",
    "                          'num_processors' : multiprocessing.cpu_count(),\n",
    "                          'run_parking_model': True,\n",
    "                          'run_toll_skim' : True},\n",
    "'Mt 2030' : {'horizon_year' : 2030,\n",
    "                          'global_iterations' : 4,\n",
    "                          'master_scen' : 3000,\n",
    "                          'max_distribution_iterations' : 60,\n",
    "                          'max_assignment_iterations' : 200,\n",
    "                          'run_congested_transit' : True,\n",
    "                          'run_capacited_transit' : True,\n",
    "                          'num_processors' : multiprocessing.cpu_count(),\n",
    "                          'run_parking_model': True,\n",
    "                          'run_toll_skim' : True},\n",
    "'Mt 2045' : {'horizon_year' : 2045,\n",
    "                          'global_iterations' : 4,\n",
    "                          'master_scen' : 4000,\n",
    "                          'max_distribution_iterations' : 60,\n",
    "                          'max_assignment_iterations' : 200,\n",
    "                          'run_congested_transit' : True,\n",
    "                          'run_capacited_transit' : True,\n",
    "                          'num_processors' : multiprocessing.cpu_count(),\n",
    "                          'run_parking_model': True,\n",
    "                          'run_toll_skim' : True},\n",
    "'Place Holder' : {'horizon_year' : 2011,\n",
    "                          'global_iterations' : 4,\n",
    "                          'master_scen' : 1000,\n",
    "                          'max_distribution_iterations' : 60,\n",
    "                          'max_assignment_iterations' : 200,\n",
    "                          'run_congested_transit' : True,\n",
    "                          'run_capacited_transit' : True,\n",
    "                          'num_processors' : multiprocessing.cpu_count(),\n",
    "                          'run_parking_model': True,\n",
    "                          'run_toll_skim' : True}}"
   ]
  },
  {
   "cell_type": "markdown",
   "metadata": {},
   "source": [
    "# Loop through and run all the ebs open in desktop (except minimal base) "
   ]
  },
  {
   "cell_type": "code",
   "execution_count": null,
   "metadata": {
    "collapsed": true,
    "show_input": true
   },
   "outputs": [],
   "source": [
    "run_model = _m.Modeller().tool(\"translink.RTM3.runmodel\")\n",
    "util = _m.Modeller().tool(\"translink.util\")"
   ]
  },
  {
   "cell_type": "code",
   "execution_count": null,
   "metadata": {
    "collapsed": false,
    "scrolled": false,
    "show_input": true
   },
   "outputs": [],
   "source": [
    "for eb in ebs:\n",
    "    title = eb.title()\n",
    "        \n",
    "    if title == 'Minimal Base Databank':\n",
    "        continue\n",
    "    \n",
    "    eb.open()\n",
    "    try:    \n",
    "        year = params[title]['horizon_year']\n",
    "        ip = util.get_input_path(eb)\n",
    "        geoFile = os.path.join(ip, 'taz1700_geographics_{}.csv'.format(year))\n",
    "        demoFile = os.path.join(ip, 'taz1700_demographics_{}.csv'.format(year))\n",
    "        scen = eb.scenario_by_number(params[title]['master_scen']).core_scenario\n",
    "    \n",
    "\n",
    "        run_model(horizon_year=year, \n",
    "              global_iterations=params[title]['global_iterations'], \n",
    "              master_scen = scen, \n",
    "              demographics_file = demoFile,\n",
    "              geographics_file = geoFile, \n",
    "              max_distribution_iterations = params[title]['max_distribution_iterations'],\n",
    "              max_assignment_iterations = params[title]['max_assignment_iterations'], \n",
    "              run_congested_transit = params[title]['run_congested_transit'],\n",
    "              run_capacited_transit = params[title]['run_capacited_transit'], \n",
    "              num_processors = params[title]['num_processors'], \n",
    "              run_parking_model = params[title]['run_parking_model'],\n",
    "              run_toll_skim = params[title]['run_toll_skim'])\n",
    "        print \"{} ran successfully\".format(title)\n",
    "\n",
    "    except Exception as e:\n",
    "        print(\"Scenario {} run failed.\".format(title), e)\n",
    "        \n",
    "        \n",
    "    \n"
   ]
  }
 ],
 "metadata": {
  "kernelspec": {
   "display_name": "Python 2",
   "language": "python",
   "name": "python2"
  },
  "language_info": {
   "codemirror_mode": {
    "name": "ipython",
    "version": 2
   },
   "file_extension": ".py",
   "mimetype": "text/x-python",
   "name": "python",
   "nbconvert_exporter": "python",
   "pygments_lexer": "ipython2",
   "version": "2.7.9"
  }
 },
 "nbformat": 4,
 "nbformat_minor": 0
}

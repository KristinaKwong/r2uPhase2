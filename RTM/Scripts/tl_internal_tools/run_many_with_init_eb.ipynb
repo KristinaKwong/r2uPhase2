{
 "cells": [
  {
   "cell_type": "code",
   "execution_count": null,
   "metadata": {
    "collapsed": true,
    "show_input": true
   },
   "outputs": [],
   "source": [
    "import inro.modeller as _m\n",
    "import inro.emme.desktop as _d\n",
    "import csv\n",
    "import os\n",
    "import multiprocessing\n",
    "import numpy as np\n",
    "import pandas as pd\n",
    "import sqlite3\n",
    "import traceback as _traceback\n",
    "import datetime\n",
    "\n",
    "import shutil"
   ]
  },
  {
   "cell_type": "code",
   "execution_count": null,
   "metadata": {
    "collapsed": true,
    "show_input": true
   },
   "outputs": [],
   "source": [
    "dt = _d.app.connect()\n",
    "de = dt.data_explorer()\n",
    "db = de.active_database()\n",
    "ebs = de.databases()"
   ]
  },
  {
   "cell_type": "markdown",
   "metadata": {},
   "source": [
    "# Define a list of name and path"
   ]
  },
  {
   "cell_type": "code",
   "execution_count": null,
   "metadata": {
    "collapsed": true,
    "show_input": true
   },
   "outputs": [],
   "source": [
    "# shape file used to do tag_polytolink (example: RTM_8ZonePolygon.shp), use None to skip this step\n",
    "shp_file = None\n",
    "# text file with link attribute by polygon zone (example: @toll by @msczone), use None to skip this step\n",
    "custom_network_txt = None\n",
    "\n",
    "params = {\n",
    "    # test scenarios #\n",
    "    'run_test_1': {\n",
    "        'master_scen_name': \"test_1\",\n",
    "        'master_scen': 1000,\n",
    "        'horizon_year': 2011,\n",
    "        'global_iterations': 2, #4,\n",
    "        'max_distribution_iterations': 2, #60,\n",
    "        'max_assignment_iterations': 2, #200,\n",
    "        'run_congested_transit': True,\n",
    "        'run_capacited_transit': True,\n",
    "        'num_processors': multiprocessing.cpu_count(),\n",
    "        'run_parking_model': True,\n",
    "        'run_toll_skim': False,\n",
    "        'scenario_name': 'test',\n",
    "        'alternative_name': 'test',\n",
    "        'demographic_file_override': None #'taz1700_demographics_2050-20.csv'\n",
    "    },\n",
    "    'run_test_2': {\n",
    "        'master_scen_name': \"test_2\",\n",
    "        'master_scen': 2000,\n",
    "        'horizon_year': 2016,\n",
    "        'global_iterations': 2, #4,\n",
    "        'max_distribution_iterations': 2, #60,\n",
    "        'max_assignment_iterations': 2, #200,\n",
    "        'run_congested_transit': True,\n",
    "        'run_capacited_transit': True,\n",
    "        'num_processors': multiprocessing.cpu_count(),\n",
    "        'run_parking_model': True,\n",
    "        'run_toll_skim': False,\n",
    "        'scenario_name': 'test',\n",
    "        'alternative_name': 'test',\n",
    "        'demographic_file_override': None #'taz1700_demographics_2050-20.csv'\n",
    "    },\n",
    "    'run_test_3': {\n",
    "        'master_scen_name': \"test_3\",\n",
    "        'master_scen': 3000,\n",
    "        'horizon_year': 2035,\n",
    "        'global_iterations': 2, #4,\n",
    "        'max_distribution_iterations': 2, #60,\n",
    "        'max_assignment_iterations': 2, #200,\n",
    "        'run_congested_transit': True,\n",
    "        'run_capacited_transit': True,\n",
    "        'num_processors': multiprocessing.cpu_count(),\n",
    "        'run_parking_model': True,\n",
    "        'run_toll_skim': False,\n",
    "        'scenario_name': 'test',\n",
    "        'alternative_name': 'test',\n",
    "        'demographic_file_override': None #'taz1700_demographics_2050-20.csv'\n",
    "    },\n",
    "    'run_test_4': {\n",
    "        'master_scen_name': \"test_4\",\n",
    "        'master_scen': 4000,\n",
    "        'horizon_year': 2050,\n",
    "        'global_iterations': 2, #4,\n",
    "        'max_distribution_iterations': 2, #60,\n",
    "        'max_assignment_iterations': 2, #200,\n",
    "        'run_congested_transit': True,\n",
    "        'run_capacited_transit': True,\n",
    "        'num_processors': multiprocessing.cpu_count(),\n",
    "        'run_parking_model': True,\n",
    "        'run_toll_skim': False,\n",
    "        'scenario_name': 'test',\n",
    "        'alternative_name': 'test',\n",
    "        'demographic_file_override': None #'taz1700_demographics_2050-20.csv'\n",
    "    }\n",
    "}\n"
   ]
  },
  {
   "cell_type": "markdown",
   "metadata": {},
   "source": [
    "# Loop through and initialize all emme databanks"
   ]
  },
  {
   "cell_type": "code",
   "execution_count": null,
   "metadata": {
    "collapsed": false,
    "show_input": true
   },
   "outputs": [],
   "source": [
    "initEmmebank = _m.Modeller().tool(\"translink.RTM3.init_emmebank\")"
   ]
  },
  {
   "cell_type": "code",
   "execution_count": null,
   "metadata": {
    "collapsed": false,
    "scrolled": false,
    "show_input": true
   },
   "outputs": [],
   "source": [
    "for databank_name in params.keys():\n",
    "    try:\n",
    "        print \"{} initiating databank ...\".format(databank_name)\n",
    "\n",
    "        initEmmebank(\n",
    "            folder_name=\"db_{}\".format(databank_name),\n",
    "            title_name=databank_name,\n",
    "            master_scen=params[databank_name]['master_scen'],\n",
    "            master_scen_name=params[databank_name]['master_scen_name'])\n",
    "\n",
    "        print \"{} successfully created.\".format(databank_name)\n",
    "\n",
    "    except Exception as e:\n",
    "        print(\"Databank creation for {} failed.\".format(databank_name), e)"
   ]
  },
  {
   "cell_type": "markdown",
   "metadata": {
    "collapsed": true,
    "show_input": true
   },
   "source": [
    "# Loop through and run all the ebs open in desktop (except minimal base) "
   ]
  },
  {
   "cell_type": "markdown",
   "metadata": {},
   "source": [
    "## Get List of Scenarios from Desktop"
   ]
  },
  {
   "cell_type": "code",
   "execution_count": null,
   "metadata": {
    "collapsed": true,
    "show_input": true
   },
   "outputs": [],
   "source": [
    "# reconnect to refresh session\n",
    "\n",
    "dt = _d.app.connect()\n",
    "de = dt.data_explorer()\n",
    "db = de.active_database()\n",
    "ebs = de.databases()"
   ]
  },
  {
   "cell_type": "code",
   "execution_count": null,
   "metadata": {
    "collapsed": false,
    "show_input": true
   },
   "outputs": [],
   "source": [
    "# make sure modeller is closed or it will print to the python console in there\n",
    "print \"====================================\"\n",
    "for eb in ebs:\n",
    "    print eb.title()\n",
    "    for scen in list(eb.scenarios()):\n",
    "        print \"{}\\t{}\".format(scen.number(), scen.title())\n",
    "    print \"====================================\""
   ]
  },
  {
   "cell_type": "code",
   "execution_count": null,
   "metadata": {
    "collapsed": true,
    "show_input": true
   },
   "outputs": [],
   "source": [
    "run_model = _m.Modeller().tool(\"translink.RTM3.runmodel\")\n",
    "util = _m.Modeller().tool(\"translink.util\")\n",
    "\n",
    "if shp_file is not None:\n",
    "    tag_polytolink = _m.Modeller().tool(\"translink.internal_tools.tagpolygon\")"
   ]
  },
  {
   "cell_type": "markdown",
   "metadata": {},
   "source": [
    "## Run Models"
   ]
  },
  {
   "cell_type": "code",
   "execution_count": null,
   "metadata": {
    "collapsed": false,
    "show_input": true
   },
   "outputs": [],
   "source": [
    "for eb in ebs:\n",
    "    title = eb.title()\n",
    "\n",
    "    if title == 'Minimal Base Databank':\n",
    "        continue\n",
    "\n",
    "    if title not in params.keys():\n",
    "        continue\n",
    "\n",
    "    eb.open()\n",
    "    \n",
    "    current_time = datetime.datetime.now()\n",
    "    print \"\\nstarting {} run at {}\".format(title, current_time)\n",
    "    \n",
    "    try:\n",
    "        year = params[title]['horizon_year']\n",
    "        ip = util.get_input_path(eb)\n",
    "        geoFile = os.path.join(ip, 'taz1700_geographics_{}.csv'.format(year))\n",
    "\n",
    "        if params[title]['demographic_file_override'] is None:\n",
    "            demoFile = os.path.join(ip, 'taz1700_demographics_{}.csv'.format(year))\n",
    "        else:\n",
    "            demoFile = os.path.join(ip, params[title]['demographic_file_override'])\n",
    "            print \"{} custom demographics file: {}.\".format(title, params[title]['demographic_file_override'])\n",
    "\n",
    "        scen = eb.scenario_by_number(\n",
    "            params[title]['master_scen']).core_scenario\n",
    "        \n",
    "        # copy custom network txt file - please define custom_network_txt\n",
    "        if custom_network_txt is not None:\n",
    "            shutil.copyfile(custom_network_txt, os.path.join(ip, 'custom_network.txt'))\n",
    "\n",
    "        if shp_file is not None:\n",
    "            print \"{} running polygon to link tagging ...\".format(title)\n",
    "            # run polygon link tagging - please define shp_file\n",
    "            tag_polytolink(\n",
    "                scenario=scen,\n",
    "                linkattributeName=\"@msczone\",\n",
    "                polygonfile=shp_file,\n",
    "                polygonfield=\"Id\",\n",
    "                algorithm=\"by_length\",\n",
    "                excludeconnector=True,\n",
    "                default = 0)\n",
    "\n",
    "        print \"{} running model ...\".format(title)\n",
    "\n",
    "        run_model(\n",
    "            horizon_year=year,\n",
    "            global_iterations=params[title]['global_iterations'],\n",
    "            master_scen=scen,\n",
    "            demographics_file=demoFile,\n",
    "            geographics_file=geoFile,\n",
    "            max_distribution_iterations=params[title]\n",
    "            ['max_distribution_iterations'],\n",
    "            max_assignment_iterations=params[title]\n",
    "            ['max_assignment_iterations'],\n",
    "            run_congested_transit=params[title]['run_congested_transit'],\n",
    "            run_capacited_transit=params[title]['run_capacited_transit'],\n",
    "            num_processors=params[title]['num_processors'],\n",
    "            run_parking_model=params[title]['run_parking_model'],\n",
    "            run_toll_skim=params[title]['run_toll_skim'],\n",
    "            scenario_name=params[title]['scenario_name'],\n",
    "            alternative_name=params[title]['alternative_name'])\n",
    "\n",
    "        current_time = datetime.datetime.now()\n",
    "        print \"{} ran successfully at {}\".format(title, current_time)\n",
    "\n",
    "    except Exception as e:\n",
    "        print(\"Scenario {} run failed.\".format(title), e)"
   ]
  },
  {
   "cell_type": "code",
   "execution_count": null,
   "metadata": {
    "collapsed": true,
    "show_input": true
   },
   "outputs": [],
   "source": []
  }
 ],
 "metadata": {
  "kernelspec": {
   "display_name": "Python 2",
   "language": "python",
   "name": "python2"
  },
  "language_info": {
   "codemirror_mode": {
    "name": "ipython",
    "version": 2
   },
   "file_extension": ".py",
   "mimetype": "text/x-python",
   "name": "python",
   "nbconvert_exporter": "python",
   "pygments_lexer": "ipython2",
   "version": "2.7.14"
  }
 },
 "nbformat": 4,
 "nbformat_minor": 0
}
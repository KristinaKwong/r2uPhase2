{
 "cells": [
  {
   "cell_type": "markdown",
   "metadata": {
    "code_folding": [
     0
    ]
   },
   "source": [
    "# Variability Tool"
   ]
  },
  {
   "cell_type": "code",
   "execution_count": null,
   "metadata": {
    "collapsed": true,
    "show_input": true
   },
   "outputs": [],
   "source": [
    "import inro.modeller as _m\n",
    "import inro.emme.desktop as _d\n",
    "import traceback as _traceback\n",
    "\n",
    "import os\n",
    "import re\n",
    "import copy\n",
    "import csv as csv\n",
    "\n",
    "import sqlite3\n",
    "import pandas as pd\n",
    "import numpy as np"
   ]
  },
  {
   "cell_type": "markdown",
   "metadata": {},
   "source": [
    "## Basic Setup"
   ]
  },
  {
   "cell_type": "code",
   "execution_count": null,
   "metadata": {
    "collapsed": true,
    "show_input": true
   },
   "outputs": [],
   "source": [
    "util = _m.Modeller().tool(\"translink.util\")\n",
    "data_export = _m.Modeller().tool(\"translink.RTM3.stage4.dataexport\") \n",
    "copy_scenario = _m.Modeller().tool(\"inro.emme.data.scenario.copy_scenario\")\n",
    "create_scenarios = _m.Modeller().tool(\"translink.RTM3.stage0.create_scenarios\")\n",
    "auto_assign = _m.Modeller().tool(\"translink.RTM3.stage3.autoassignment\")\n"
   ]
  },
  {
   "cell_type": "code",
   "execution_count": null,
   "metadata": {
    "collapsed": true,
    "show_input": true
   },
   "outputs": [],
   "source": [
    "dt = _d.app.connect()\n",
    "de = dt.data_explorer()\n",
    "db = de.active_database()\n",
    "ebs = de.databases()\n",
    "ebs = de.databases()"
   ]
  },
  {
   "cell_type": "code",
   "execution_count": null,
   "metadata": {
    "collapsed": true,
    "show_input": true
   },
   "outputs": [],
   "source": [
    "eb = _m.Modeller().emmebank\n",
    "# scenario variables\n",
    "base_scenario = eb.scenario(2000)\n",
    "am_scenid = int(eb.matrix(\"msAmScen\").data)\n",
    "md_scenid = int(eb.matrix(\"msMdScen\").data)\n",
    "pm_scenid = int(eb.matrix(\"msPmScen\").data)\n",
    "# am_scen = eb.scenario(int(eb.matrix(\"msAmScen\").data)) # not clear that these are needed\n",
    "# md_scen = eb.scenario(int(eb.matrix(\"msMdScen\").data))\n",
    "# pm_scen = eb.scenario(int(eb.matrix(\"msPmScen\").data))\n",
    "\n",
    "# factor variables\n",
    "days = 10\n",
    "mean_days_share = 0.5\n",
    "daily_range = 0.10\n",
    "sd = 0.05\n",
    "noTAZ = len(util.get_matrix_numpy(eb, \"zoneindex\"))"
   ]
  },
  {
   "cell_type": "code",
   "execution_count": null,
   "metadata": {
    "collapsed": true,
    "show_input": true
   },
   "outputs": [],
   "source": [
    "\n"
   ]
  },
  {
   "cell_type": "markdown",
   "metadata": {},
   "source": [
    "## Functions"
   ]
  },
  {
   "cell_type": "code",
   "execution_count": null,
   "metadata": {
    "code_folding": [
     0
    ],
    "collapsed": true,
    "show_input": true
   },
   "outputs": [],
   "source": [
    "def generate_sample_mean(i, days, daily_range, mean_days_share):\n",
    "    if mean_days_share == 1.0:\n",
    "        sample_mean = 1.0\n",
    "    \n",
    "    elif mean_days_share == 0.0 and i <= days * 0.5:\n",
    "        sample_mean = round(1.0 - daily_range + (((i-1) - days * mean_days_share) * ((2 * daily_range) / (days * (1 - mean_days_share)))), 2)\n",
    "\n",
    "    elif mean_days_share == 0.0 and i > days * 0.5:\n",
    "        sample_mean = round(1.0 - daily_range + ((i - days * mean_days_share) * ((2 * daily_range) / (days * (1 - mean_days_share)))), 2)\n",
    "    \n",
    "    elif i < days * mean_days_share:\n",
    "        sample_mean = 1.0\n",
    "    \n",
    "    else:\n",
    "        sample_mean = round(1.0 - daily_range + ((i - days * mean_days_share) * ((2 * daily_range) / (days * (1 - mean_days_share)))), 2)\n",
    "    return sample_mean"
   ]
  },
  {
   "cell_type": "code",
   "execution_count": null,
   "metadata": {
    "collapsed": true,
    "show_input": true
   },
   "outputs": [],
   "source": [
    "def factor_matrix(matrix, sample_mean, sd, noTAZ):\n",
    "    facmat = np.random.normal(loc=sample_mean, scale=sd, size = [noTAZ,noTAZ])\n",
    "    floormat = np.empty((noTAZ,noTAZ))\n",
    "    floormat.fill(0.01)\n",
    "    facmat = np.maximum(facmat, floormat)\n",
    "    outmat = matrix * facmat\n",
    "    return outmat"
   ]
  },
  {
   "cell_type": "code",
   "execution_count": null,
   "metadata": {
    "code_folding": [
     0
    ],
    "collapsed": true,
    "show_input": true
   },
   "outputs": [],
   "source": [
    "def matrix_batchins(eb):\n",
    "    util = _m.Modeller().tool(\"translink.util\")\n",
    "    # Initialize Copies of original demand matrics\n",
    "    util.initmat(eb, \"mf1300\", \"SOV_drvtrp_VOT_1_AmC\", \"SOV drv-trips VOT 1 AM C\", 0)\n",
    "    util.initmat(eb, \"mf1301\", \"SOV_drvtrp_VOT_2_AmC\", \"SOV drv-trips VOT 2 AM C\", 0)\n",
    "    util.initmat(eb, \"mf1302\", \"SOV_drvtrp_VOT_3_AmC\", \"SOV drv-trips VOT 3 AM C\", 0)\n",
    "    util.initmat(eb, \"mf1303\", \"SOV_drvtrp_VOT_4_AmC\", \"SOV drv-trips VOT 4 AM C\", 0)\n",
    "    util.initmat(eb, \"mf1306\", \"HOV_drvtrp_VOT_1_AmC\", \"HOV drv-trips VOT 1 AM C\", 0)\n",
    "    util.initmat(eb, \"mf1307\", \"HOV_drvtrp_VOT_2_AmC\", \"HOV drv-trips VOT 2 AM C\", 0)\n",
    "    util.initmat(eb, \"mf1308\", \"HOV_drvtrp_VOT_3_AmC\", \"HOV drv-trips VOT 3 AM C\", 0)\n",
    "    util.initmat(eb, \"mf1309\", \"HOV_drvtrp_VOT_4_AmC\", \"HOV drv-trips VOT 4 AM C\", 0)\n",
    "    util.initmat(eb, \"mf1320\", \"SOV_drvtrp_VOT_1_MdC\", \"SOV drv-trips VOT 1 MD C\", 0)\n",
    "    util.initmat(eb, \"mf1321\", \"SOV_drvtrp_VOT_2_MdC\", \"SOV drv-trips VOT 2 MD C\", 0)\n",
    "    util.initmat(eb, \"mf1322\", \"SOV_drvtrp_VOT_3_MdC\", \"SOV drv-trips VOT 3 MD C\", 0)\n",
    "    util.initmat(eb, \"mf1323\", \"SOV_drvtrp_VOT_4_MdC\", \"SOV drv-trips VOT 4 MD C\", 0)\n",
    "    util.initmat(eb, \"mf1326\", \"HOV_drvtrp_VOT_1_MdC\", \"HOV drv-trips VOT 1 MD C\", 0)\n",
    "    util.initmat(eb, \"mf1327\", \"HOV_drvtrp_VOT_2_MdC\", \"HOV drv-trips VOT 2 MD C\", 0)\n",
    "    util.initmat(eb, \"mf1328\", \"HOV_drvtrp_VOT_3_MdC\", \"HOV drv-trips VOT 3 MD C\", 0)\n",
    "    util.initmat(eb, \"mf1329\", \"HOV_drvtrp_VOT_4_MdC\", \"HOV drv-trips VOT 4 MD C\", 0)\n",
    "    util.initmat(eb, \"mf1340\", \"SOV_drvtrp_VOT_1_PmC\", \"SOV drv-trips VOT 1 PM C\", 0)\n",
    "    util.initmat(eb, \"mf1341\", \"SOV_drvtrp_VOT_2_PmC\", \"SOV drv-trips VOT 2 PM C\", 0)\n",
    "    util.initmat(eb, \"mf1342\", \"SOV_drvtrp_VOT_3_PmC\", \"SOV drv-trips VOT 3 PM C\", 0)\n",
    "    util.initmat(eb, \"mf1343\", \"SOV_drvtrp_VOT_4_PmC\", \"SOV drv-trips VOT 4 PM C\", 0)\n",
    "    util.initmat(eb, \"mf1346\", \"HOV_drvtrp_VOT_1_PmC\", \"HOV drv-trips VOT 1 PM C\", 0)\n",
    "    util.initmat(eb, \"mf1347\", \"HOV_drvtrp_VOT_2_PmC\", \"HOV drv-trips VOT 2 PM C\", 0)\n",
    "    util.initmat(eb, \"mf1348\", \"HOV_drvtrp_VOT_3_PmC\", \"HOV drv-trips VOT 3 PM C\", 0)\n",
    "    util.initmat(eb, \"mf1349\", \"HOV_drvtrp_VOT_4_PmC\", \"HOV drv-trips VOT 4 PM C\", 0)\n",
    "\n",
    "    util.initmat(eb, \"mf1312\", \"lgvPceAmC\", \"light trucks PCE AM C\", 0)\n",
    "    util.initmat(eb, \"mf1313\", \"hgvPceAmC\", \"heavy trucks PCE AM C\", 0)\n",
    "    util.initmat(eb, \"mf1332\", \"lgvPceMdC\", \"light trucks PCE MD C\", 0)\n",
    "    util.initmat(eb, \"mf1333\", \"hgvPceMdC\", \"heavy trucks PCE MD C\", 0)\n",
    "    util.initmat(eb, \"mf1352\", \"lgvPcePmC\", \"light trucks PCE PM C\", 0)\n",
    "    util.initmat(eb, \"mf1353\", \"hgvPcePmC\", \"heavy trucks PCE PM C\", 0)\n"
   ]
  },
  {
   "cell_type": "code",
   "execution_count": null,
   "metadata": {
    "code_folding": [],
    "collapsed": true,
    "show_input": true
   },
   "outputs": [],
   "source": [
    "amSovDemand1 = util.get_matrix_numpy(eb, \"mfSOV_drvtrp_VOT_1_Am\")\n",
    "amSovDemand2 = util.get_matrix_numpy(eb, \"mfSOV_drvtrp_VOT_2_Am\")\n",
    "amSovDemand3 = util.get_matrix_numpy(eb, \"mfSOV_drvtrp_VOT_3_Am\")\n",
    "amSovDemand4 = util.get_matrix_numpy(eb, \"mfSOV_drvtrp_VOT_4_Am\")\n",
    "\n",
    "mdSovDemand1 = util.get_matrix_numpy(eb, \"mfSOV_drvtrp_VOT_1_Md\")\n",
    "mdSovDemand2 = util.get_matrix_numpy(eb, \"mfSOV_drvtrp_VOT_2_Md\")\n",
    "mdSovDemand3 = util.get_matrix_numpy(eb, \"mfSOV_drvtrp_VOT_3_Md\")\n",
    "mdSovDemand4 = util.get_matrix_numpy(eb, \"mfSOV_drvtrp_VOT_4_Md\")\n",
    "\n",
    "pmSovDemand1 = util.get_matrix_numpy(eb, \"mfSOV_drvtrp_VOT_1_Pm\")\n",
    "pmSovDemand2 = util.get_matrix_numpy(eb, \"mfSOV_drvtrp_VOT_2_Pm\")\n",
    "pmSovDemand3 = util.get_matrix_numpy(eb, \"mfSOV_drvtrp_VOT_3_Pm\")\n",
    "pmSovDemand4 = util.get_matrix_numpy(eb, \"mfSOV_drvtrp_VOT_4_Pm\")\n",
    "\n",
    "amHovDemand1 = util.get_matrix_numpy(eb, \"mfHOV_drvtrp_VOT_1_Am\")\n",
    "amHovDemand2 = util.get_matrix_numpy(eb, \"mfHOV_drvtrp_VOT_2_Am\")\n",
    "amHovDemand3 = util.get_matrix_numpy(eb, \"mfHOV_drvtrp_VOT_3_Am\")\n",
    "amHovDemand4 = util.get_matrix_numpy(eb, \"mfHOV_drvtrp_VOT_4_Am\")\n",
    "\n",
    "mdHovDemand1 = util.get_matrix_numpy(eb, \"mfHOV_drvtrp_VOT_1_Md\")\n",
    "mdHovDemand2 = util.get_matrix_numpy(eb, \"mfHOV_drvtrp_VOT_2_Md\")\n",
    "mdHovDemand3 = util.get_matrix_numpy(eb, \"mfHOV_drvtrp_VOT_3_Md\")\n",
    "mdHovDemand4 = util.get_matrix_numpy(eb, \"mfHOV_drvtrp_VOT_4_Md\")\n",
    "\n",
    "pmHovDemand1 = util.get_matrix_numpy(eb, \"mfHOV_drvtrp_VOT_1_Pm\")\n",
    "pmHovDemand2 = util.get_matrix_numpy(eb, \"mfHOV_drvtrp_VOT_2_Pm\")\n",
    "pmHovDemand3 = util.get_matrix_numpy(eb, \"mfHOV_drvtrp_VOT_3_Pm\")\n",
    "pmHovDemand4 = util.get_matrix_numpy(eb, \"mfHOV_drvtrp_VOT_4_Pm\")\n",
    "\n",
    "amLGVDemand1 = util.get_matrix_numpy(eb, \"mflgvPceAm\")\n",
    "amHGVDemand1 = util.get_matrix_numpy(eb, \"mfhgvPceAm\")\n",
    "mdLGVDemand1 = util.get_matrix_numpy(eb, \"mflgvPceMd\")\n",
    "mdHGVDemand1 = util.get_matrix_numpy(eb, \"mfhgvPceMd\")\n",
    "pmLGVDemand1 = util.get_matrix_numpy(eb, \"mflgvPcePm\")\n",
    "pmHGVDemand1 = util.get_matrix_numpy(eb, \"mfhgvPcePm\")"
   ]
  },
  {
   "cell_type": "code",
   "execution_count": null,
   "metadata": {
    "collapsed": true,
    "show_input": true
   },
   "outputs": [],
   "source": [
    "matrix_batchins(eb)"
   ]
  },
  {
   "cell_type": "code",
   "execution_count": null,
   "metadata": {
    "code_folding": [],
    "collapsed": false,
    "show_input": true
   },
   "outputs": [],
   "source": [
    "# save copies of demand matrices in case run crashes with factored matrices in place\n",
    "util.set_matrix_numpy(eb, \"mfSOV_drvtrp_VOT_1_AmC\", amSovDemand1)\n",
    "util.set_matrix_numpy(eb, \"mfSOV_drvtrp_VOT_2_AmC\", amSovDemand2)\n",
    "util.set_matrix_numpy(eb, \"mfSOV_drvtrp_VOT_3_AmC\", amSovDemand3)\n",
    "util.set_matrix_numpy(eb, \"mfSOV_drvtrp_VOT_4_AmC\", amSovDemand4)\n",
    "util.set_matrix_numpy(eb, \"mfSOV_drvtrp_VOT_1_MdC\", mdSovDemand1)\n",
    "util.set_matrix_numpy(eb, \"mfSOV_drvtrp_VOT_2_MdC\", mdSovDemand2)\n",
    "util.set_matrix_numpy(eb, \"mfSOV_drvtrp_VOT_3_MdC\", mdSovDemand3)\n",
    "util.set_matrix_numpy(eb, \"mfSOV_drvtrp_VOT_4_MdC\", mdSovDemand4)\n",
    "util.set_matrix_numpy(eb, \"mfSOV_drvtrp_VOT_1_PmC\", pmSovDemand1)\n",
    "util.set_matrix_numpy(eb, \"mfSOV_drvtrp_VOT_2_PmC\", pmSovDemand2)\n",
    "util.set_matrix_numpy(eb, \"mfSOV_drvtrp_VOT_3_PmC\", pmSovDemand3)\n",
    "util.set_matrix_numpy(eb, \"mfSOV_drvtrp_VOT_4_PmC\", pmSovDemand4)\n",
    "util.set_matrix_numpy(eb, \"mfHOV_drvtrp_VOT_1_AmC\", amHovDemand1)\n",
    "util.set_matrix_numpy(eb, \"mfHOV_drvtrp_VOT_2_AmC\", amHovDemand2)\n",
    "util.set_matrix_numpy(eb, \"mfHOV_drvtrp_VOT_3_AmC\", amHovDemand3)\n",
    "util.set_matrix_numpy(eb, \"mfHOV_drvtrp_VOT_4_AmC\", amHovDemand4)\n",
    "util.set_matrix_numpy(eb, \"mfHOV_drvtrp_VOT_1_MdC\", mdHovDemand1)\n",
    "util.set_matrix_numpy(eb, \"mfHOV_drvtrp_VOT_2_MdC\", mdHovDemand2)\n",
    "util.set_matrix_numpy(eb, \"mfHOV_drvtrp_VOT_3_MdC\", mdHovDemand3)\n",
    "util.set_matrix_numpy(eb, \"mfHOV_drvtrp_VOT_4_MdC\", mdHovDemand4)\n",
    "util.set_matrix_numpy(eb, \"mfHOV_drvtrp_VOT_1_PmC\", pmHovDemand1)\n",
    "util.set_matrix_numpy(eb, \"mfHOV_drvtrp_VOT_2_PmC\", pmHovDemand2)\n",
    "util.set_matrix_numpy(eb, \"mfHOV_drvtrp_VOT_3_PmC\", pmHovDemand3)\n",
    "util.set_matrix_numpy(eb, \"mfHOV_drvtrp_VOT_4_PmC\", pmHovDemand4)\n",
    "util.set_matrix_numpy(eb, \"mflgvPceAmC\", amLGVDemand1)\n",
    "util.set_matrix_numpy(eb, \"mfhgvPceAmC\", amHGVDemand1)\n",
    "util.set_matrix_numpy(eb, \"mflgvPceMdC\", mdLGVDemand1)\n",
    "util.set_matrix_numpy(eb, \"mfhgvPceMdC\", mdHGVDemand1)\n",
    "util.set_matrix_numpy(eb, \"mflgvPcePmC\", pmLGVDemand1)\n",
    "util.set_matrix_numpy(eb, \"mfhgvPcePmC\", pmHGVDemand1)"
   ]
  },
  {
   "cell_type": "markdown",
   "metadata": {},
   "source": [
    "## The loop!"
   ]
  },
  {
   "cell_type": "code",
   "execution_count": null,
   "metadata": {
    "code_folding": [
     0
    ],
    "collapsed": false,
    "show_input": true
   },
   "outputs": [],
   "source": [
    "for i in range(1, days+1):\n",
    "    \n",
    "    # Copy to new AM scenarios\n",
    "    am_scenid_i = am_scenid + 100 + i\n",
    "    copy_scenario(from_scenario=base_scenario,\n",
    "                  scenario_id=am_scenid_i,\n",
    "                  scenario_title=\"{} AM day {}\".format(base_scenario.title, i),\n",
    "                  overwrite=True)\n",
    "    amscen_i = eb.scenario(am_scenid_i)\n",
    "\n",
    "    create_scenarios.attribute_code(amscen_i, \"@lanesam\", \"@vdfam\", \"@tpfam\", \"@hdwyam\", \"@tollam\")\n",
    "\n",
    "    # Copy to new MD Scenarios\n",
    "    md_scenid_i = md_scenid + 100 + i\n",
    "    copy_scenario(from_scenario=base_scenario,\n",
    "                  scenario_id=md_scenid_i,\n",
    "                  scenario_title=\"{} MD day {}\".format(base_scenario.title, i),\n",
    "                  overwrite=True)\n",
    "    mdscen_i = eb.scenario(md_scenid_i)\n",
    "\n",
    "    create_scenarios.attribute_code(mdscen_i, \"@lanesmd\", \"@vdfmd\", \"@tpfmd\", \"@hdwymd\", \"@tollmd\")\n",
    "\n",
    "    # Copy to new pm Scenarios\n",
    "    pm_scenid_i = pm_scenid + 100 + i\n",
    "    copy_scenario(from_scenario=base_scenario,\n",
    "                  scenario_id=pm_scenid_i,\n",
    "                  scenario_title=\"{} PM day {}\".format(base_scenario.title, i),\n",
    "                  overwrite=True)\n",
    "    pmscen_i = eb.scenario(pm_scenid_i)\n",
    "\n",
    "    create_scenarios.attribute_code(pmscen_i, \"@lanespm\", \"@vdfpm\", \"@tpfpm\", \"@hdwypm\", \"@tollpm\")\n",
    "\n",
    "    create_scenarios.overide_network(amscen_i, mdscen_i, pmscen_i) # should probably just import from somewhere rather than copy\n",
    "    \n",
    "    # factor the matrices\n",
    "    sample_mean = generate_sample_mean(i, days, daily_range, mean_days_share)\n",
    "    amSovDemand1_fac = factor_matrix(amSovDemand1, sample_mean, sd, noTAZ)\n",
    "    amSovDemand2_fac = factor_matrix(amSovDemand2, sample_mean, sd, noTAZ)\n",
    "    amSovDemand3_fac = factor_matrix(amSovDemand3, sample_mean, sd, noTAZ)\n",
    "    amSovDemand4_fac = factor_matrix(amSovDemand4, sample_mean, sd, noTAZ)\n",
    "    mdSovDemand1_fac = factor_matrix(mdSovDemand1, sample_mean, sd, noTAZ)\n",
    "    mdSovDemand2_fac = factor_matrix(mdSovDemand2, sample_mean, sd, noTAZ)\n",
    "    mdSovDemand3_fac = factor_matrix(mdSovDemand3, sample_mean, sd, noTAZ)\n",
    "    mdSovDemand4_fac = factor_matrix(mdSovDemand4, sample_mean, sd, noTAZ)\n",
    "    pmSovDemand1_fac = factor_matrix(pmSovDemand1, sample_mean, sd, noTAZ)\n",
    "    pmSovDemand2_fac = factor_matrix(pmSovDemand2, sample_mean, sd, noTAZ)\n",
    "    pmSovDemand3_fac = factor_matrix(pmSovDemand3, sample_mean, sd, noTAZ)\n",
    "    pmSovDemand4_fac = factor_matrix(pmSovDemand4, sample_mean, sd, noTAZ)\n",
    "    amHovDemand1_fac = factor_matrix(amHovDemand1, sample_mean, sd, noTAZ)\n",
    "    amHovDemand2_fac = factor_matrix(amHovDemand2, sample_mean, sd, noTAZ)\n",
    "    amHovDemand3_fac = factor_matrix(amHovDemand3, sample_mean, sd, noTAZ)\n",
    "    amHovDemand4_fac = factor_matrix(amHovDemand4, sample_mean, sd, noTAZ)\n",
    "    mdHovDemand1_fac = factor_matrix(mdHovDemand1, sample_mean, sd, noTAZ)\n",
    "    mdHovDemand2_fac = factor_matrix(mdHovDemand2, sample_mean, sd, noTAZ)\n",
    "    mdHovDemand3_fac = factor_matrix(mdHovDemand3, sample_mean, sd, noTAZ)\n",
    "    mdHovDemand4_fac = factor_matrix(mdHovDemand4, sample_mean, sd, noTAZ)\n",
    "    pmHovDemand1_fac = factor_matrix(pmHovDemand1, sample_mean, sd, noTAZ)\n",
    "    pmHovDemand2_fac = factor_matrix(pmHovDemand2, sample_mean, sd, noTAZ)\n",
    "    pmHovDemand3_fac = factor_matrix(pmHovDemand3, sample_mean, sd, noTAZ)\n",
    "    pmHovDemand4_fac = factor_matrix(pmHovDemand4, sample_mean, sd, noTAZ)\n",
    "    amLGVDemand1_fac = factor_matrix(amLGVDemand1, sample_mean, sd, noTAZ)\n",
    "    amHGVDemand1_fac = factor_matrix(amHGVDemand1, sample_mean, sd, noTAZ)\n",
    "    mdLGVDemand1_fac = factor_matrix(mdLGVDemand1, sample_mean, sd, noTAZ)\n",
    "    mdHGVDemand1_fac = factor_matrix(mdHGVDemand1, sample_mean, sd, noTAZ)\n",
    "    pmLGVDemand1_fac = factor_matrix(pmLGVDemand1, sample_mean, sd, noTAZ)\n",
    "    pmHGVDemand1_fac = factor_matrix(pmHGVDemand1, sample_mean, sd, noTAZ)\n",
    "    \n",
    "    # putting the factored matrics in place to be assigned\n",
    "    util.set_matrix_numpy(eb, \"mfSOV_drvtrp_VOT_1_Am\", amSovDemand1_fac)\n",
    "    util.set_matrix_numpy(eb, \"mfSOV_drvtrp_VOT_2_Am\", amSovDemand2_fac)\n",
    "    util.set_matrix_numpy(eb, \"mfSOV_drvtrp_VOT_3_Am\", amSovDemand3_fac)\n",
    "    util.set_matrix_numpy(eb, \"mfSOV_drvtrp_VOT_4_Am\", amSovDemand4_fac)\n",
    "    util.set_matrix_numpy(eb, \"mfSOV_drvtrp_VOT_1_Md\", mdSovDemand1_fac)\n",
    "    util.set_matrix_numpy(eb, \"mfSOV_drvtrp_VOT_2_Md\", mdSovDemand2_fac)\n",
    "    util.set_matrix_numpy(eb, \"mfSOV_drvtrp_VOT_3_Md\", mdSovDemand3_fac)\n",
    "    util.set_matrix_numpy(eb, \"mfSOV_drvtrp_VOT_4_Md\", mdSovDemand4_fac)\n",
    "    util.set_matrix_numpy(eb, \"mfSOV_drvtrp_VOT_1_Pm\", pmSovDemand1_fac)\n",
    "    util.set_matrix_numpy(eb, \"mfSOV_drvtrp_VOT_2_Pm\", pmSovDemand2_fac)\n",
    "    util.set_matrix_numpy(eb, \"mfSOV_drvtrp_VOT_3_Pm\", pmSovDemand3_fac)\n",
    "    util.set_matrix_numpy(eb, \"mfSOV_drvtrp_VOT_4_Pm\", pmSovDemand4_fac)\n",
    "    util.set_matrix_numpy(eb, \"mfHOV_drvtrp_VOT_1_Am\", amHovDemand1_fac)\n",
    "    util.set_matrix_numpy(eb, \"mfHOV_drvtrp_VOT_2_Am\", amHovDemand2_fac)\n",
    "    util.set_matrix_numpy(eb, \"mfHOV_drvtrp_VOT_3_Am\", amHovDemand3_fac)\n",
    "    util.set_matrix_numpy(eb, \"mfHOV_drvtrp_VOT_4_Am\", amHovDemand4_fac)\n",
    "    util.set_matrix_numpy(eb, \"mfHOV_drvtrp_VOT_1_Md\", mdHovDemand1_fac)\n",
    "    util.set_matrix_numpy(eb, \"mfHOV_drvtrp_VOT_2_Md\", mdHovDemand2_fac)\n",
    "    util.set_matrix_numpy(eb, \"mfHOV_drvtrp_VOT_3_Md\", mdHovDemand3_fac)\n",
    "    util.set_matrix_numpy(eb, \"mfHOV_drvtrp_VOT_4_Md\", mdHovDemand4_fac)\n",
    "    util.set_matrix_numpy(eb, \"mfHOV_drvtrp_VOT_1_Pm\", pmHovDemand1_fac)\n",
    "    util.set_matrix_numpy(eb, \"mfHOV_drvtrp_VOT_2_Pm\", pmHovDemand2_fac)\n",
    "    util.set_matrix_numpy(eb, \"mfHOV_drvtrp_VOT_3_Pm\", pmHovDemand3_fac)\n",
    "    util.set_matrix_numpy(eb, \"mfHOV_drvtrp_VOT_4_Pm\", pmHovDemand4_fac)\n",
    "    util.set_matrix_numpy(eb, \"mflgvPceAm\", amLGVDemand1_fac)\n",
    "    util.set_matrix_numpy(eb, \"mfhgvPceAm\", amHGVDemand1_fac)\n",
    "    util.set_matrix_numpy(eb, \"mflgvPceMd\", mdLGVDemand1_fac)\n",
    "    util.set_matrix_numpy(eb, \"mfhgvPceMd\", mdHGVDemand1_fac)\n",
    "    util.set_matrix_numpy(eb, \"mflgvPcePm\", pmLGVDemand1_fac)\n",
    "    util.set_matrix_numpy(eb, \"mfhgvPcePm\", pmHGVDemand1_fac)\n",
    "    \n",
    "    auto_assign(amscen_i, mdscen_i, pmscen_i)\n",
    "    \n",
    "    # record run metadata\n",
    "    md = {'day' : i,\n",
    "            'sample_mean' : sample_mean,\n",
    "            'days' : days,\n",
    "            'daily_range': daily_range,\n",
    "            'mean_days_share' : mean_days_share}\n",
    "    md = pd.DataFrame(md, index=[0])\n",
    "    \n",
    "    # setup outputs to record results at GY level\n",
    "    df = util.get_ijensem_df(eb, 'gy','gy')\n",
    "    df['day'] = i\n",
    "\n",
    "    df[\"amSovDemand1\"] = amSovDemand1_fac.flatten()\n",
    "    df[\"amSovDemand2\"] = amSovDemand2_fac.flatten()\n",
    "    df[\"amSovDemand3\"] = amSovDemand3_fac.flatten()\n",
    "    df[\"amSovDemand4\"] = amSovDemand4_fac.flatten()\n",
    "    df[\"mdSovDemand1\"] = mdSovDemand1_fac.flatten()\n",
    "    df[\"mdSovDemand2\"] = mdSovDemand2_fac.flatten()\n",
    "    df[\"mdSovDemand3\"] = mdSovDemand3_fac.flatten()\n",
    "    df[\"mdSovDemand4\"] = mdSovDemand4_fac.flatten()\n",
    "    df[\"pmSovDemand1\"] = pmSovDemand1_fac.flatten()\n",
    "    df[\"pmSovDemand2\"] = pmSovDemand2_fac.flatten()\n",
    "    df[\"pmSovDemand3\"] = pmSovDemand3_fac.flatten()\n",
    "    df[\"pmSovDemand4\"] = pmSovDemand4_fac.flatten()\n",
    "    df[\"amHovDemand1\"] = amHovDemand1_fac.flatten()\n",
    "    df[\"amHovDemand2\"] = amHovDemand2_fac.flatten()\n",
    "    df[\"amHovDemand3\"] = amHovDemand3_fac.flatten()\n",
    "    df[\"amHovDemand4\"] = amHovDemand4_fac.flatten()\n",
    "    df[\"mdHovDemand1\"] = mdHovDemand1_fac.flatten()\n",
    "    df[\"mdHovDemand2\"] = mdHovDemand2_fac.flatten()\n",
    "    df[\"mdHovDemand3\"] = mdHovDemand3_fac.flatten()\n",
    "    df[\"mdHovDemand4\"] = mdHovDemand4_fac.flatten()\n",
    "    df[\"pmHovDemand1\"] = pmHovDemand1_fac.flatten()\n",
    "    df[\"pmHovDemand2\"] = pmHovDemand2_fac.flatten()\n",
    "    df[\"pmHovDemand3\"] = pmHovDemand3_fac.flatten()\n",
    "    df[\"pmHovDemand4\"] = pmHovDemand4_fac.flatten()\n",
    "    df[\"amLGVDemand1\"] = amLGVDemand1_fac.flatten()\n",
    "    df[\"amHGVDemand1\"] = amHGVDemand1_fac.flatten()\n",
    "    df[\"mdLGVDemand1\"] = mdLGVDemand1_fac.flatten()\n",
    "    df[\"mdHGVDemand1\"] = mdHGVDemand1_fac.flatten()\n",
    "    df[\"pmLGVDemand1\"] = pmLGVDemand1_fac.flatten()\n",
    "    df[\"pmHGVDemand1\"] = pmHGVDemand1_fac.flatten()\n",
    "\n",
    "\n",
    "    df = pd.melt(df, id_vars = ['gy_i','gy_j', 'day'], var_name = 'timeModeVot', value_name='trips_fac')\n",
    "    dfGy =  df.groupby(['gy_i','gy_j','day','timeModeVot'])\n",
    "    dfGy = dfGy.sum().reset_index()\n",
    "    dfTimeModeVot = dfGy['timeModeVot'].str.extract(r'(?P<peak>[a|m|p]{1}[m|d])(?P<mode>Sov|Hov|LGV|HGV)Demand(?P<votclass>\\d)')\n",
    "    dfGy = pd.concat([dfGy,dfTimeModeVot], axis=1)\n",
    "    dfGy = dfGy[['gy_i','gy_j','day','peak','mode','votclass','trips_fac']]\n",
    "    \n",
    "    # pull auto network results\n",
    "    dfAuto, dfTransit = data_export.networkExport(eb)\n",
    "    dfAuto['day'] = i\n",
    "    \n",
    "    # write out data\n",
    "    conn = util.get_db_byname(eb, 'trip_summaries.db')\n",
    "    if i == 1:\n",
    "        dfGy.to_sql(name='autoTripsGyVariable', con=conn, flavor='sqlite', index=False, if_exists='replace')\n",
    "        md.to_sql(name='variableRunsMd', con=conn, flavor='sqlite', index=False, if_exists='replace')\n",
    "        dfAuto.to_sql(name='netResultsVariable', con=conn, flavor='sqlite', index=False, if_exists='replace')\n",
    "    else:\n",
    "        dfGy.to_sql(name='autoTripsGyVariable', con=conn, flavor='sqlite', index=False, if_exists='append')\n",
    "        md.to_sql(name='variableRunsMd', con=conn, flavor='sqlite', index=False, if_exists='append')\n",
    "        dfAuto.to_sql(name='netResultsVariable', con=conn, flavor='sqlite', index=False, if_exists='append')\n",
    "    conn.close()   "
   ]
  },
  {
   "cell_type": "code",
   "execution_count": null,
   "metadata": {
    "collapsed": true,
    "show_input": true
   },
   "outputs": [],
   "source": []
  },
  {
   "cell_type": "code",
   "execution_count": null,
   "metadata": {
    "collapsed": true,
    "show_input": true
   },
   "outputs": [],
   "source": []
  },
  {
   "cell_type": "code",
   "execution_count": null,
   "metadata": {
    "collapsed": true,
    "show_input": true
   },
   "outputs": [],
   "source": []
  },
  {
   "cell_type": "code",
   "execution_count": null,
   "metadata": {
    "collapsed": true,
    "show_input": true
   },
   "outputs": [],
   "source": []
  }
 ],
 "metadata": {
  "kernelspec": {
   "display_name": "Python 2",
   "language": "python",
   "name": "python2"
  },
  "language_info": {
   "codemirror_mode": {
    "name": "ipython",
    "version": 2
   },
   "file_extension": ".py",
   "mimetype": "text/x-python",
   "name": "python",
   "nbconvert_exporter": "python",
   "pygments_lexer": "ipython2",
   "version": "2.7.9"
  }
 },
 "nbformat": 4,
 "nbformat_minor": 0
}

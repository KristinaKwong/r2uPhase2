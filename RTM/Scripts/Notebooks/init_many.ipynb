{
 "cells": [
  {
   "cell_type": "code",
   "execution_count": null,
   "metadata": {
    "show_input": true
   },
   "outputs": [],
   "source": [
    "import inro.modeller as _m\n",
    "import inro.emme.desktop as _d\n",
    "import csv\n",
    "import os\n",
    "import multiprocessing\n",
    "import numpy as np\n",
    "import pandas as pd\n",
    "import sqlite3\n",
    "import traceback as _traceback\n",
    "import datetime\n",
    "\n",
    "import shutil"
   ]
  },
  {
   "cell_type": "code",
   "execution_count": null,
   "metadata": {
    "show_input": true
   },
   "outputs": [],
   "source": [
    "dt = _m.Modeller().desktop\n",
    "de = dt.data_explorer()\n",
    "db = de.active_database()\n",
    "ebs = de.databases()"
   ]
  },
  {
   "cell_type": "markdown",
   "metadata": {},
   "source": [
    "# Define a list of name and path"
   ]
  },
  {
   "cell_type": "code",
   "execution_count": null,
   "metadata": {
    "show_input": true
   },
   "outputs": [],
   "source": [
    "params = {\n",
    "    'run2017': {\n",
    "        'master_scen': 1700,\n",
    "        'master_scen_name': \"BAU_run2017\"\n",
    "    },\n",
    "    'run2035': {\n",
    "        'master_scen': 3500,\n",
    "        'master_scen_name': \"BAU_run2035\"\n",
    "    },\n",
    "    'run2050': {\n",
    "        'master_scen': 5000,\n",
    "        'master_scen_name': \"BAU_run2050\"\n",
    "    }\n",
    "}"
   ]
  },
  {
   "cell_type": "markdown",
   "metadata": {},
   "source": [
    "# Loop through and initialize all emme databanks"
   ]
  },
  {
   "cell_type": "code",
   "execution_count": null,
   "metadata": {
    "show_input": true
   },
   "outputs": [],
   "source": [
    "initEmmebank = _m.Modeller().tool(\"translink.RTM3.init_emmebank\")"
   ]
  },
  {
   "cell_type": "code",
   "execution_count": null,
   "metadata": {
    "scrolled": false,
    "show_input": true
   },
   "outputs": [],
   "source": [
    "for databank_name in params.keys():\n",
    "    try:\n",
    "        print \"{} initiating databank ...\".format(databank_name)\n",
    "\n",
    "        initEmmebank(\n",
    "            folder_name=\"db_{}\".format(databank_name),\n",
    "            title_name=databank_name,\n",
    "            master_scen=params[databank_name]['master_scen'],\n",
    "            master_scen_name=params[databank_name]['master_scen_name'])\n",
    "\n",
    "        print \"{} successfully created.\".format(databank_name)\n",
    "\n",
    "    except Exception as e:\n",
    "        print(\"Databank creation for {} failed.\".format(databank_name), e)"
   ]
  },
  {
   "cell_type": "code",
   "execution_count": null,
   "metadata": {
    "show_input": true
   },
   "outputs": [],
   "source": []
  }
 ],
 "metadata": {
  "kernelspec": {
   "display_name": "Python 2",
   "language": "python",
   "name": "python2"
  },
  "language_info": {
   "codemirror_mode": {
    "name": "ipython",
    "version": 2
   },
   "file_extension": ".py",
   "mimetype": "text/x-python",
   "name": "python",
   "nbconvert_exporter": "python",
   "pygments_lexer": "ipython2",
   "version": "2.7.14"
  },
  "modeller": {
   "desktop_app_port": "4242"
  }
 },
 "nbformat": 4,
 "nbformat_minor": 1
}
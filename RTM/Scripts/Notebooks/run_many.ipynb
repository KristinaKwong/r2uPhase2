{
 "cells": [
  {
   "cell_type": "code",
   "execution_count": null,
   "metadata": {
    "show_input": true
   },
   "outputs": [],
   "source": [
    "import inro.modeller as _m\n",
    "import csv\n",
    "import os\n",
    "import multiprocessing\n",
    "import numpy as np\n",
    "import pandas as pd\n",
    "import sqlite3\n",
    "import datetime\n",
    "import traceback as _traceback"
   ]
  },
  {
   "cell_type": "code",
   "execution_count": null,
   "metadata": {
    "show_input": true
   },
   "outputs": [],
   "source": [
    "dt = _m.Modeller().desktop\n",
    "de = dt.data_explorer()\n",
    "db = de.active_database()\n",
    "ebs = de.databases()"
   ]
  },
  {
   "cell_type": "markdown",
   "metadata": {},
   "source": [
    "# Get List of Scenarios from Desktop\n",
    "### Make sure spelling is correct in params dictionary below or run will FAIL!!!"
   ]
  },
  {
   "cell_type": "code",
   "execution_count": null,
   "metadata": {
    "show_input": true
   },
   "outputs": [],
   "source": [
    "# make sure modeller is closed or it will print to the python console in there\n",
    "counter = 0\n",
    "for eb in ebs:\n",
    "    print '{} {}'.format(counter, eb.title())\n",
    "    counter += 1"
   ]
  },
  {
   "cell_type": "markdown",
   "metadata": {},
   "source": [
    "# Set Parameters"
   ]
  },
  {
   "cell_type": "code",
   "execution_count": null,
   "metadata": {
    "show_input": true
   },
   "outputs": [],
   "source": [
    "params = {\n",
    "    'run2017': {\n",
    "        'master_scen': 1700,\n",
    "        'master_scen_name': \"BAU_run2017\",\n",
    "        'scenario_name': 'BusinessAsUsual',\n",
    "        'alternative_name':  'run2016',\n",
    "        'horizon_year': 2017,\n",
    "        'global_iterations': 4,\n",
    "        'max_distribution_iterations': 60,\n",
    "        'max_assignment_iterations': 200,\n",
    "        'run_congested_transit': True,\n",
    "        'run_capacited_transit': True,\n",
    "        'num_processors': multiprocessing.cpu_count(),\n",
    "        'run_parking_model': True,\n",
    "        'run_toll_skim': True\n",
    "    },\n",
    "    'run2035': {\n",
    "        'master_scen': 3500,\n",
    "        'master_scen_name': \"BAU_run2035\",\n",
    "        'scenario_name': 'BusinessAsUsual',\n",
    "        'alternative_name':  'run2035',\n",
    "        'horizon_year': 2035,\n",
    "        'global_iterations': 4,\n",
    "        'max_distribution_iterations': 60,\n",
    "        'max_assignment_iterations': 200,\n",
    "        'run_congested_transit': True,\n",
    "        'run_capacited_transit': True,\n",
    "        'num_processors': multiprocessing.cpu_count(),\n",
    "        'run_parking_model': True,\n",
    "        'run_toll_skim': True},\n",
    "    'run2050': {\n",
    "        'master_scen': 5000,\n",
    "        'master_scen_name': \"BAU_run2050\",\n",
    "        'scenario_name': 'BusinessAsUsual',\n",
    "        'alternative_name':  'run2050',\n",
    "        'horizon_year': 2050,\n",
    "        'global_iterations': 4,\n",
    "        'max_distribution_iterations': 60,\n",
    "        'max_assignment_iterations': 200,\n",
    "        'run_congested_transit': True,\n",
    "        'run_capacited_transit': True,\n",
    "        'num_processors': multiprocessing.cpu_count(),\n",
    "        'run_parking_model': True,\n",
    "        'run_toll_skim': True\n",
    "    }\n",
    "}"
   ]
  },
  {
   "cell_type": "markdown",
   "metadata": {},
   "source": [
    "# Loop through and run all the ebs open in desktop (except minimal base) "
   ]
  },
  {
   "cell_type": "code",
   "execution_count": null,
   "metadata": {
    "show_input": true
   },
   "outputs": [],
   "source": [
    "run_model = _m.Modeller().tool(\"translink.RTM3.runmodel\")\n",
    "util = _m.Modeller().tool(\"translink.util\")"
   ]
  },
  {
   "cell_type": "code",
   "execution_count": null,
   "metadata": {
    "scrolled": false,
    "show_input": true
   },
   "outputs": [],
   "source": [
    "for eb in ebs:\n",
    "    title = eb.title()\n",
    "    \n",
    "    # do not run minimal base databank\n",
    "    if title == 'Minimal Base Databank':\n",
    "        continue\n",
    "\n",
    "    # do not run scenario not specified\n",
    "    if title not in params:\n",
    "        continue\n",
    "    \n",
    "    eb.open()\n",
    "    \n",
    "    current_time = datetime.datetime.now()\n",
    "    print \"\\nstarting {} run at {}\".format(title, current_time)\n",
    "    \n",
    "    try:    \n",
    "        year = params[title]['horizon_year']\n",
    "        ip = util.get_input_path(eb)\n",
    "        geoFile = os.path.join(ip, 'taz1700_geographics_{}.csv'.format(year))\n",
    "        demoFile = os.path.join(ip, 'taz1700_demographics_{}.csv'.format(year))\n",
    "        scen = eb.scenario_by_number(params[title]['master_scen']).core_scenario\n",
    "        \n",
    "        \n",
    "        run_model(scenario_name = params[title]['scenario_name'],\n",
    "                  alternative_name = params[title]['alternative_name'], \n",
    "                  horizon_year=year, \n",
    "                  global_iterations=params[title]['global_iterations'], \n",
    "                  master_scen = scen, \n",
    "                  demographics_file = demoFile,\n",
    "                  geographics_file = geoFile, \n",
    "                  max_distribution_iterations = params[title]['max_distribution_iterations'],\n",
    "                  max_assignment_iterations = params[title]['max_assignment_iterations'], \n",
    "                  run_congested_transit = params[title]['run_congested_transit'],\n",
    "                  run_capacited_transit = params[title]['run_capacited_transit'], \n",
    "                  num_processors = params[title]['num_processors'], \n",
    "                  run_parking_model = params[title]['run_parking_model'],\n",
    "                  run_toll_skim = params[title]['run_toll_skim'])\n",
    "        current_time = datetime.datetime.now()\n",
    "        print \"{} ran successfully at {}\".format(title, current_time)\n",
    "        \n",
    "        \n",
    "    except Exception as e:\n",
    "        current_time = datetime.datetime.now()\n",
    "        print(\"Scenario {} run failed at {}.\".format(title, current_time), e)\n"
   ]
  },
  {
   "cell_type": "code",
   "execution_count": null,
   "metadata": {},
   "outputs": [],
   "source": []
  }
 ],
 "metadata": {
  "kernelspec": {
   "display_name": "Python 2",
   "language": "python",
   "name": "python2"
  },
  "language_info": {
   "codemirror_mode": {
    "name": "ipython",
    "version": 2
   },
   "file_extension": ".py",
   "mimetype": "text/x-python",
   "name": "python",
   "nbconvert_exporter": "python",
   "pygments_lexer": "ipython2",
   "version": "2.7.14"
  },
  "modeller": {
   "desktop_app_port": "4242"
  }
 },
 "nbformat": 4,
 "nbformat_minor": 1
}
